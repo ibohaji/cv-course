{
 "cells": [
  {
   "cell_type": "code",
   "execution_count": 15,
   "metadata": {},
   "outputs": [],
   "source": [
    "import numpy as np \n",
    "from week1 import  PiInv, Pi,project_points,plot3d\n",
    "from scipy.spatial.transform import Rotation\n",
    "\n",
    "\n",
    "K = np.array([[1000,0,300],[0,1000,200],[0,0,1]])\n",
    "R_1 = np.eye(3) \n",
    "t_1 = 0 \n",
    "\n",
    "R_2 =  Rotation.from_euler('xyz', [0.7, -0.5, 0.8]).as_matrix()\n",
    "t_2 = np.array([0.2,2,1])\n",
    "\n"
   ]
  },
  {
   "cell_type": "markdown",
   "metadata": {},
   "source": [
    "3.1 "
   ]
  },
  {
   "cell_type": "code",
   "execution_count": 16,
   "metadata": {},
   "outputs": [],
   "source": [
    "Q = np.array([1,0.5,4,1])\n",
    "\n",
    "q1   = K @ np.column_stack((R_1,np.array([0,0,0]))) @ (Q)\n",
    "q2 = K @ np.column_stack((R_2,t_2)) @ Q\n"
   ]
  },
  {
   "cell_type": "markdown",
   "metadata": {},
   "source": [
    "## 3.2"
   ]
  },
  {
   "cell_type": "code",
   "execution_count": 17,
   "metadata": {},
   "outputs": [],
   "source": [
    "def crossOp(p): \n",
    "    p_cross = np.array([[0,-p[2],p[1]],[p[2],0,-p[0]],[-p[1],p[0],0]]) \n",
    "    return p_cross"
   ]
  },
  {
   "cell_type": "code",
   "execution_count": 18,
   "metadata": {},
   "outputs": [],
   "source": [
    "test_1 = np.array([2,4,6])\n",
    "test_2 = np.array([3,6,8])\n",
    "\n",
    "np.testing.assert_equal(np.cross(test_1,test_2),crossOp(test_1) @ test_2)"
   ]
  },
  {
   "cell_type": "markdown",
   "metadata": {},
   "source": [
    "## Exercise 3.3\n",
    "* Copmute the fundamental matrix of the two cameras "
   ]
  },
  {
   "cell_type": "code",
   "execution_count": 19,
   "metadata": {},
   "outputs": [
    {
     "data": {
      "text/latex": [
       "$\\displaystyle \\left[\\begin{matrix}3.2931188116914 \\cdot 10^{-7} & 8.19396326710898 \\cdot 10^{-7} & 0.00179162591798073\\\\5.15532551154256 \\cdot 10^{-7} & -8.76915984132189 \\cdot 10^{-7} & 9.31426656231631 \\cdot 10^{-5}\\\\-0.00129882755312393 & 0.00151951700173537 & -1.10072682336132\\end{matrix}\\right]$"
      ],
      "text/plain": [
       "⎡ 3.2931188116914e-7   8.19396326710898e-7   0.00179162591798073⎤\n",
       "⎢                                                               ⎥\n",
       "⎢5.15532551154256e-7   -8.76915984132189e-7  9.31426656231631e-5⎥\n",
       "⎢                                                               ⎥\n",
       "⎣-0.00129882755312393  0.00151951700173537    -1.10072682336132 ⎦"
      ]
     },
     "execution_count": 19,
     "metadata": {},
     "output_type": "execute_result"
    }
   ],
   "source": [
    "from sympy import Matrix\n",
    "\n",
    "E = crossOp(t_2) @ R_2\n",
    "\n",
    "F = np.linalg.inv(K).T @ E @ np.linalg.inv(K)\n",
    "\n",
    "Matrix(F)"
   ]
  },
  {
   "cell_type": "markdown",
   "metadata": {},
   "source": [
    "## Exercise 3.4\n",
    "* What is the epipolar line l of q1 in camera two?"
   ]
  },
  {
   "cell_type": "markdown",
   "metadata": {},
   "source": [
    "q1"
   ]
  },
  {
   "cell_type": "code",
   "execution_count": 20,
   "metadata": {},
   "outputs": [
    {
     "name": "stdout",
     "output_type": "stream",
     "text": [
      "[ 8.95620504e-03  3.66751496e-04 -5.28495581e+00]\n"
     ]
    }
   ],
   "source": [
    "l = (F@q1)\n",
    "\n",
    "print(l)"
   ]
  },
  {
   "cell_type": "markdown",
   "metadata": {},
   "source": [
    "## Exercise 3.5 \n",
    "* Is q2 located on the epipolar line from Exercise 3.4? Do the computations, but also explain why\n",
    "this must be so."
   ]
  },
  {
   "cell_type": "markdown",
   "metadata": {},
   "source": []
  },
  {
   "cell_type": "code",
   "execution_count": 21,
   "metadata": {},
   "outputs": [
    {
     "data": {
      "image/png": "[encoded data removed]",
      "text/latex": [
       "$\\displaystyle 7.105427357601 \\cdot 10^{-15}$"
      ],
      "text/plain": [
       "7.105427357601002e-15"
      ]
     },
     "execution_count": 21,
     "metadata": {},
     "output_type": "execute_result"
    }
   ],
   "source": [
    "q2.T @ l"
   ]
  },
  {
   "cell_type": "markdown",
   "metadata": {},
   "source": [
    "## ex 3.8\n",
    "\n"
   ]
  },
  {
   "cell_type": "code",
   "execution_count": 22,
   "metadata": {},
   "outputs": [],
   "source": [
    "data = np.load('TwoImageDataCar.npy',allow_pickle=True).item()"
   ]
  },
  {
   "cell_type": "code",
   "execution_count": 23,
   "metadata": {},
   "outputs": [
    {
     "data": {
      "text/plain": [
       "dict_keys(['im1', 'R1', 't1', 'im2', 'R2', 't2', 'K'])"
      ]
     },
     "execution_count": 23,
     "metadata": {},
     "output_type": "execute_result"
    }
   ],
   "source": [
    "data.keys()"
   ]
  },
  {
   "cell_type": "code",
   "execution_count": 40,
   "metadata": {},
   "outputs": [],
   "source": [
    "K = data[\"K\"] \n",
    "\n",
    "im1 = data[\"im1\"]\n",
    "R1 = data[\"R1\"]\n",
    "t1 = data[\"t1\"] \n",
    "\n",
    "im2 = data[\"im2\"]\n",
    "R2 = data[\"R2\"]\n",
    "t2 = data[\"t2\"] "
   ]
  },
  {
   "cell_type": "code",
   "execution_count": 46,
   "metadata": {},
   "outputs": [
    {
     "data": {
      "text/latex": [
       "$\\displaystyle \\left[\\begin{matrix}-1.94029315462207 \\cdot 10^{-8} & -1.26535830581291 \\cdot 10^{-6} & 1.42215454159821 \\cdot 10^{-5}\\\\-1.74360790570005 \\cdot 10^{-6} & -3.16893157425425 \\cdot 10^{-7} & -0.00120302873104124\\\\-5.87867477285393 \\cdot 10^{-5} & 0.0027814667251453 & -0.101653094437382\\end{matrix}\\right]$"
      ],
      "text/plain": [
       "⎡-1.94029315462207e-8  -1.26535830581291e-6  1.42215454159821e-5 ⎤\n",
       "⎢                                                                ⎥\n",
       "⎢-1.74360790570005e-6  -3.16893157425425e-7  -0.00120302873104124⎥\n",
       "⎢                                                                ⎥\n",
       "⎣-5.87867477285393e-5   0.0027814667251453    -0.101653094437382 ⎦"
      ]
     },
     "execution_count": 46,
     "metadata": {},
     "output_type": "execute_result"
    }
   ],
   "source": [
    "E = crossOp(t1) @ R1\n",
    "F = np.transpose(np.linalg.inv(K)) @ E @ np.linalg.inv(K) \n",
    "Matrix(F)"
   ]
  },
  {
   "cell_type": "code",
   "execution_count": null,
   "metadata": {},
   "outputs": [],
   "source": []
  },
  {
   "cell_type": "code",
   "execution_count": 26,
   "metadata": {},
   "outputs": [],
   "source": [
    "import matplotlib.pyplot as plt \n",
    "\n",
    "def show2imgs(im1,im2):\n",
    "    ig,ax = plt.subplots(1,2,figsize=(10,10))\n",
    "    \n",
    "    ax[0].imshow(im1)\n",
    "    ax[1].imshow(im2) \n",
    "    x = plt.ginput(1)\n",
    "    plt.show()\n",
    "    point = np.array(x).reshape(-1,1)\n",
    "    return point\n",
    "\n",
    "\n",
    "def DrawLine(l, shape):\n",
    "    #Checks where the line intersects the four sides of the image\n",
    "    # and finds the two intersections that are within the frame\n",
    "    def in_frame(l_im):\n",
    "        q = np.cross(l.flatten(), l_im)\n",
    "        q = q[:2]/q[2]\n",
    "        if all(q>=0) and all(q+1<=shape[1::-1]):\n",
    "          return q\n",
    "        \n",
    "    lines = [[1, 0, 0], [0, 1, 0], [1, 0, 1-shape[1]], [0, 1, 1-shape[0]]]\n",
    "    P = [in_frame(l_im) for l_im in lines if in_frame(l_im) is not None]\n",
    "    if (len(P)==0):\n",
    "        print(\"Line is completely outside image\")\n",
    "    plt.plot(*np.array(P).T)"
   ]
  },
  {
   "cell_type": "code",
   "execution_count": 33,
   "metadata": {},
   "outputs": [],
   "source": [
    "%matplotlib qt \n",
    "\n",
    "def ex9(im1,im2,K,R1,R2,t1,t2):\n",
    "    q1_ = show2imgs(im1,im2)\n",
    "\n",
    "    \n",
    "    E = crossOp(t1) @ R1 \n",
    "\n",
    "    F = np.linalg.inv(K).T @ E @  np.linalg.inv(K) \n",
    "\n",
    "\n",
    "\n",
    "    l = F @ PiInv(q1_)\n",
    "    shape = im2.shape\n",
    "    \n",
    "    DrawLine(l,shape)\n",
    "\n",
    "    return F\n",
    "\n"
   ]
  },
  {
   "cell_type": "code",
   "execution_count": 48,
   "metadata": {},
   "outputs": [],
   "source": [
    "F = ex9(im1,im2,K,R1,R2,t1,t2)"
   ]
  },
  {
   "cell_type": "code",
   "execution_count": 49,
   "metadata": {},
   "outputs": [
    {
     "data": {
      "text/latex": [
       "$\\displaystyle \\left[\\begin{matrix}-5.82322057040713 \\cdot 10^{-8} & -2.72441774726627 \\cdot 10^{-6} & 5.16847341221962 \\cdot 10^{-5}\\\\-2.96383945823227 \\cdot 10^{-6} & -2.80525900143955 \\cdot 10^{-7} & -0.00110672213830915\\\\-5.17753981754951 \\cdot 10^{-5} & 0.0037662029528016 & -0.12117903096092\\end{matrix}\\right]$"
      ],
      "text/plain": [
       "⎡-5.82322057040713e-8  -2.72441774726627e-6  5.16847341221962e-5 ⎤\n",
       "⎢                                                                ⎥\n",
       "⎢-2.96383945823227e-6  -2.80525900143955e-7  -0.00110672213830915⎥\n",
       "⎢                                                                ⎥\n",
       "⎣-5.17753981754951e-5   0.0037662029528016    -0.12117903096092  ⎦"
      ]
     },
     "execution_count": 49,
     "metadata": {},
     "output_type": "execute_result"
    }
   ],
   "source": [
    "Matrix(F)"
   ]
  },
  {
   "cell_type": "code",
   "execution_count": null,
   "metadata": {},
   "outputs": [],
   "source": []
  },
  {
   "cell_type": "markdown",
   "metadata": {},
   "source": [
    "# Exercise 3.11"
   ]
  },
  {
   "cell_type": "code",
   "execution_count": 176,
   "metadata": {},
   "outputs": [],
   "source": [
    "def triangulate(qn,pn):\n",
    "\n",
    "    \"\"\" Input \n",
    "        Q: list of n pixel coordinates (q1,q2,...qn)\n",
    "        Pn: list of n projection matrices \n",
    "        output: triangulation of the 3d point\n",
    "    \"\"\"\n",
    "\n",
    "    if len(Q) != len(pn):\n",
    "        raise ValueError(\"Expected lists of equal length, len(Q)!=len(pn)\")\n",
    "\n",
    "    \n",
    "    B_i = lambda P,q: np.array([  [P[2]*q[0] - P[0]],[P[0]*q[1] - P[1]]  ])\n",
    "\n",
    "    B = np.hstack(([B_i(P_i,q_i) for P_i, q_i in zip(pn,qn)]))\n",
    "\n",
    "    B = B.reshape(len(pn)*2,4)\n",
    "\n",
    "    U,S,VT = np.linalg.svd(B)\n",
    "\n",
    "    Q = VT[-1,:]\n",
    "    return Q\n",
    "\n",
    "    \n",
    "\n"
   ]
  },
  {
   "cell_type": "code",
   "execution_count": null,
   "metadata": {},
   "outputs": [],
   "source": []
  },
  {
   "cell_type": "code",
   "execution_count": null,
   "metadata": {},
   "outputs": [],
   "source": []
  },
  {
   "cell_type": "code",
   "execution_count": null,
   "metadata": {},
   "outputs": [],
   "source": []
  },
  {
   "cell_type": "code",
   "execution_count": null,
   "metadata": {},
   "outputs": [],
   "source": []
  },
  {
   "cell_type": "code",
   "execution_count": null,
   "metadata": {},
   "outputs": [],
   "source": []
  },
  {
   "cell_type": "code",
   "execution_count": null,
   "metadata": {},
   "outputs": [],
   "source": []
  },
  {
   "cell_type": "code",
   "execution_count": null,
   "metadata": {},
   "outputs": [],
   "source": []
  },
  {
   "cell_type": "code",
   "execution_count": null,
   "metadata": {},
   "outputs": [],
   "source": []
  },
  {
   "cell_type": "code",
   "execution_count": null,
   "metadata": {},
   "outputs": [],
   "source": []
  },
  {
   "cell_type": "code",
   "execution_count": null,
   "metadata": {},
   "outputs": [],
   "source": []
  },
  {
   "cell_type": "code",
   "execution_count": null,
   "metadata": {},
   "outputs": [],
   "source": []
  },
  {
   "cell_type": "code",
   "execution_count": null,
   "metadata": {},
   "outputs": [],
   "source": []
  },
  {
   "cell_type": "code",
   "execution_count": null,
   "metadata": {},
   "outputs": [],
   "source": []
  },
  {
   "cell_type": "code",
   "execution_count": null,
   "metadata": {},
   "outputs": [],
   "source": []
  },
  {
   "cell_type": "code",
   "execution_count": null,
   "metadata": {},
   "outputs": [],
   "source": []
  },
  {
   "cell_type": "code",
   "execution_count": null,
   "metadata": {},
   "outputs": [],
   "source": []
  },
  {
   "cell_type": "code",
   "execution_count": null,
   "metadata": {},
   "outputs": [],
   "source": []
  },
  {
   "cell_type": "code",
   "execution_count": null,
   "metadata": {},
   "outputs": [],
   "source": []
  },
  {
   "cell_type": "code",
   "execution_count": null,
   "metadata": {},
   "outputs": [],
   "source": []
  },
  {
   "cell_type": "code",
   "execution_count": 91,
   "metadata": {},
   "outputs": [
    {
     "data": {
      "text/plain": [
       "array([[4.0e-323, 2.0e-323, 1.5e-323],\n",
       "       [4.9e-324, 4.4e-323, 3.0e-323]])"
      ]
     },
     "execution_count": 91,
     "metadata": {},
     "output_type": "execute_result"
    }
   ],
   "source": [
    "np.empty((2,3))"
   ]
  },
  {
   "cell_type": "code",
   "execution_count": null,
   "metadata": {},
   "outputs": [],
   "source": []
  },
  {
   "cell_type": "code",
   "execution_count": 88,
   "metadata": {},
   "outputs": [
    {
     "data": {
      "text/plain": [
       "array([[-0.09205746, -0.82851716, -0.55234477],\n",
       "       [-0.82851716,  0.3714244 , -0.4190504 ],\n",
       "       [-0.55234477, -0.4190504 ,  0.72063307]])"
      ]
     },
     "execution_count": 88,
     "metadata": {},
     "output_type": "execute_result"
    }
   ],
   "source": [
    "B"
   ]
  },
  {
   "cell_type": "code",
   "execution_count": null,
   "metadata": {},
   "outputs": [],
   "source": []
  },
  {
   "cell_type": "code",
   "execution_count": null,
   "metadata": {},
   "outputs": [],
   "source": []
  },
  {
   "cell_type": "code",
   "execution_count": null,
   "metadata": {},
   "outputs": [],
   "source": []
  },
  {
   "cell_type": "code",
   "execution_count": null,
   "metadata": {},
   "outputs": [],
   "source": []
  },
  {
   "cell_type": "code",
   "execution_count": 60,
   "metadata": {},
   "outputs": [],
   "source": [
    "m1 = np.array([[3,2,3],[2,4,3],[5,1,2]]) \n",
    "m2 = np.array([[3,2,3],[6,4,3],[6,2,1]]) \n",
    "m3 =  np.array([[3,2,8],[4,3,6],[8,10,5]]) \n",
    "\n",
    "\n",
    "lst = [m1,m2]\n",
    "lst[0][0]\n",
    "\n",
    "qn = np.array([[1,2],[4,6]])"
   ]
  },
  {
   "cell_type": "code",
   "execution_count": 67,
   "metadata": {},
   "outputs": [],
   "source": [
    "B = np.array([  [lst[0][2]*qn[0][0]-lst[0][0]],[lst[0][2]*qn[0][1] - lst[0][1]]  ])"
   ]
  },
  {
   "cell_type": "code",
   "execution_count": 68,
   "metadata": {},
   "outputs": [
    {
     "data": {
      "text/plain": [
       "array([[[ 2, -1, -1]],\n",
       "\n",
       "       [[ 8, -2,  1]]])"
      ]
     },
     "execution_count": 68,
     "metadata": {},
     "output_type": "execute_result"
    }
   ],
   "source": [
    "B "
   ]
  },
  {
   "cell_type": "code",
   "execution_count": 70,
   "metadata": {},
   "outputs": [
    {
     "data": {
      "text/plain": [
       "array([5, 1, 2])"
      ]
     },
     "execution_count": 70,
     "metadata": {},
     "output_type": "execute_result"
    }
   ],
   "source": [
    "lst[0][2]"
   ]
  },
  {
   "cell_type": "code",
   "execution_count": null,
   "metadata": {},
   "outputs": [],
   "source": []
  },
  {
   "cell_type": "code",
   "execution_count": null,
   "metadata": {},
   "outputs": [],
   "source": []
  },
  {
   "cell_type": "code",
   "execution_count": 65,
   "metadata": {},
   "outputs": [
    {
     "data": {
      "text/plain": [
       "array([[4, 0, 1]])"
      ]
     },
     "execution_count": 65,
     "metadata": {},
     "output_type": "execute_result"
    }
   ],
   "source": [
    "B"
   ]
  },
  {
   "cell_type": "code",
   "execution_count": null,
   "metadata": {},
   "outputs": [],
   "source": []
  },
  {
   "cell_type": "code",
   "execution_count": null,
   "metadata": {},
   "outputs": [],
   "source": []
  },
  {
   "cell_type": "code",
   "execution_count": null,
   "metadata": {},
   "outputs": [],
   "source": []
  },
  {
   "cell_type": "code",
   "execution_count": null,
   "metadata": {},
   "outputs": [],
   "source": []
  },
  {
   "cell_type": "code",
   "execution_count": null,
   "metadata": {},
   "outputs": [],
   "source": []
  }
 ],
 "metadata": {
  "kernelspec": {
   "display_name": "Python 3",
   "language": "python",
   "name": "python3"
  },
  "language_info": {
   "codemirror_mode": {
    "name": "ipython",
    "version": 3
   },
   "file_extension": ".py",
   "mimetype": "text/x-python",
   "name": "python",
   "nbconvert_exporter": "python",
   "pygments_lexer": "ipython3",
   "version": "3.11.6"
  }
 },
 "nbformat": 4,
 "nbformat_minor": 2
}
