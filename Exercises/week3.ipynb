{
 "cells": [
  {
   "cell_type": "code",
   "execution_count": 47,
   "metadata": {},
   "outputs": [],
   "source": [
    "import numpy as np \n",
    "from week1 import  PiInv, Pi,project_points,plot3d\n",
    "from scipy.spatial.transform import Rotation\n",
    "\n",
    "\n",
    "K = np.array([[1000,0,300],[0,1000,200],[0,0,1]])\n",
    "R_1 = np.eye(3) \n",
    "t_1 = 0 \n",
    "\n",
    "R_2 =  Rotation.from_euler('xyz', [0.7, -0.5, 0.8]).as_matrix()\n",
    "t_2 = np.array([0.2,2,1])\n",
    "\n"
   ]
  },
  {
   "cell_type": "markdown",
   "metadata": {},
   "source": [
    "3.1 "
   ]
  },
  {
   "cell_type": "code",
   "execution_count": 53,
   "metadata": {},
   "outputs": [],
   "source": [
    "Q = np.array([1,0.5,4,1])\n",
    "\n",
    "q1   = Pi(K @ np.column_stack((R_1,np.array([0,0,0]))) @ (Q) )\n",
    "q2 = Pi(K @ np.column_stack((R_2,t_2)) @ Q)\n"
   ]
  },
  {
   "cell_type": "code",
   "execution_count": 54,
   "metadata": {},
   "outputs": [
    {
     "data": {
      "text/plain": [
       "(array([550., 325.]), array([582.47256835, 185.98985776]))"
      ]
     },
     "execution_count": 54,
     "metadata": {},
     "output_type": "execute_result"
    }
   ],
   "source": [
    "q1,q2"
   ]
  },
  {
   "cell_type": "code",
   "execution_count": 56,
   "metadata": {},
   "outputs": [
    {
     "data": {
      "text/plain": [
       "array([[ 1.00000000e+00, -1.79416309e-17, -3.51374946e-16],\n",
       "       [-1.79416309e-17,  1.00000000e+00,  8.61226139e-17],\n",
       "       [-3.51374946e-16,  8.61226139e-17,  1.00000000e+00]])"
      ]
     },
     "execution_count": 56,
     "metadata": {},
     "output_type": "execute_result"
    }
   ],
   "source": [
    "R1.T@ R1"
   ]
  },
  {
   "cell_type": "markdown",
   "metadata": {},
   "source": [
    "## 3.2"
   ]
  },
  {
   "cell_type": "code",
   "execution_count": 5,
   "metadata": {},
   "outputs": [],
   "source": [
    "def crossOp(p): \n",
    "    p_cross = np.array([[0,-p[2],p[1]],[p[2],0,-p[0]],[-p[1],p[0],0]]) \n",
    "    return p_cross"
   ]
  },
  {
   "cell_type": "code",
   "execution_count": 109,
   "metadata": {},
   "outputs": [],
   "source": [
    "test_1 = np.array([2,4,6])\n",
    "test_2 = np.array([3,6,8])\n",
    "\n",
    "np.testing.assert_equal(np.cross(test_1,test_2),crossOp(test_1) @ test_2)"
   ]
  },
  {
   "cell_type": "markdown",
   "metadata": {},
   "source": [
    "## Exercise 3.3\n",
    "* Copmute the fundamental matrix of the two cameras "
   ]
  },
  {
   "cell_type": "code",
   "execution_count": 110,
   "metadata": {},
   "outputs": [
    {
     "data": {
      "text/latex": [
       "$\\displaystyle \\left[\\begin{matrix}3.2931188116914 \\cdot 10^{-7} & 8.19396326710898 \\cdot 10^{-7} & 0.00179162591798073\\\\5.15532551154256 \\cdot 10^{-7} & -8.76915984132189 \\cdot 10^{-7} & 9.31426656231631 \\cdot 10^{-5}\\\\-0.00129882755312393 & 0.00151951700173537 & -1.10072682336132\\end{matrix}\\right]$"
      ],
      "text/plain": [
       "⎡ 3.2931188116914e-7   8.19396326710898e-7   0.00179162591798073⎤\n",
       "⎢                                                               ⎥\n",
       "⎢5.15532551154256e-7   -8.76915984132189e-7  9.31426656231631e-5⎥\n",
       "⎢                                                               ⎥\n",
       "⎣-0.00129882755312393  0.00151951700173537    -1.10072682336132 ⎦"
      ]
     },
     "execution_count": 110,
     "metadata": {},
     "output_type": "execute_result"
    }
   ],
   "source": [
    "\n",
    "E = crossOp(t_2) @ R_2\n",
    "\n",
    "F = np.linalg.inv(K).T @ E @ np.linalg.inv(K)\n",
    "\n"
   ]
  },
  {
   "cell_type": "code",
   "execution_count": null,
   "metadata": {},
   "outputs": [],
   "source": []
  },
  {
   "cell_type": "markdown",
   "metadata": {},
   "source": [
    "## Exercise 3.4\n",
    "* What is the epipolar line l of q1 in camera two?"
   ]
  },
  {
   "cell_type": "markdown",
   "metadata": {},
   "source": [
    "q1"
   ]
  },
  {
   "cell_type": "code",
   "execution_count": 111,
   "metadata": {},
   "outputs": [
    {
     "name": "stdout",
     "output_type": "stream",
     "text": [
      "[ 8.95620504e-03  3.66751496e-04 -5.28495581e+00]\n"
     ]
    }
   ],
   "source": [
    "l = (F@q1)\n",
    "\n",
    "print(l)"
   ]
  },
  {
   "cell_type": "markdown",
   "metadata": {},
   "source": [
    "## Exercise 3.5 \n",
    "* Is q2 located on the epipolar line from Exercise 3.4? Do the computations, but also explain why\n",
    "this must be so."
   ]
  },
  {
   "cell_type": "markdown",
   "metadata": {},
   "source": []
  },
  {
   "cell_type": "code",
   "execution_count": 112,
   "metadata": {},
   "outputs": [
    {
     "data": {
      "image/png": "[encoded data removed]",
      "text/latex": [
       "$\\displaystyle 7.105427357601 \\cdot 10^{-15}$"
      ],
      "text/plain": [
       "7.105427357601002e-15"
      ]
     },
     "execution_count": 112,
     "metadata": {},
     "output_type": "execute_result"
    }
   ],
   "source": [
    "q2.T @ l"
   ]
  },
  {
   "cell_type": "markdown",
   "metadata": {},
   "source": [
    "## ex 3.8\n",
    "\n"
   ]
  },
  {
   "cell_type": "code",
   "execution_count": 113,
   "metadata": {},
   "outputs": [],
   "source": [
    "data = np.load('TwoImageDataCar.npy',allow_pickle=True).item()"
   ]
  },
  {
   "cell_type": "code",
   "execution_count": 114,
   "metadata": {},
   "outputs": [
    {
     "data": {
      "text/plain": [
       "dict_keys(['im1', 'R1', 't1', 'im2', 'R2', 't2', 'K'])"
      ]
     },
     "execution_count": 114,
     "metadata": {},
     "output_type": "execute_result"
    }
   ],
   "source": [
    "data.keys()"
   ]
  },
  {
   "cell_type": "code",
   "execution_count": 115,
   "metadata": {},
   "outputs": [],
   "source": [
    "K = data[\"K\"] \n",
    "\n",
    "im1 = data[\"im1\"]\n",
    "R1 = data[\"R1\"]\n",
    "t1 = data[\"t1\"] \n",
    "\n",
    "im2 = data[\"im2\"]\n",
    "R2 = data[\"R2\"]\n",
    "t2 = data[\"t2\"] "
   ]
  },
  {
   "cell_type": "code",
   "execution_count": 116,
   "metadata": {},
   "outputs": [
    {
     "data": {
      "text/latex": [
       "$\\displaystyle \\left[\\begin{matrix}-1.94029315462207 \\cdot 10^{-8} & -1.26535830581291 \\cdot 10^{-6} & 1.42215454159821 \\cdot 10^{-5}\\\\-1.74360790570005 \\cdot 10^{-6} & -3.16893157425425 \\cdot 10^{-7} & -0.00120302873104124\\\\-5.87867477285393 \\cdot 10^{-5} & 0.0027814667251453 & -0.101653094437382\\end{matrix}\\right]$"
      ],
      "text/plain": [
       "⎡-1.94029315462207e-8  -1.26535830581291e-6  1.42215454159821e-5 ⎤\n",
       "⎢                                                                ⎥\n",
       "⎢-1.74360790570005e-6  -3.16893157425425e-7  -0.00120302873104124⎥\n",
       "⎢                                                                ⎥\n",
       "⎣-5.87867477285393e-5   0.0027814667251453    -0.101653094437382 ⎦"
      ]
     },
     "execution_count": 116,
     "metadata": {},
     "output_type": "execute_result"
    }
   ],
   "source": [
    "E = crossOp(t1) @ R1\n",
    "F = np.transpose(np.linalg.inv(K)) @ E @ np.linalg.inv(K) \n"
   ]
  },
  {
   "cell_type": "code",
   "execution_count": null,
   "metadata": {},
   "outputs": [],
   "source": []
  },
  {
   "cell_type": "code",
   "execution_count": 117,
   "metadata": {},
   "outputs": [],
   "source": [
    "import matplotlib.pyplot as plt \n",
    "\n",
    "def show2imgs(im1,im2):\n",
    "    ig,ax = plt.subplots(1,2,figsize=(10,10))\n",
    "    \n",
    "    ax[0].imshow(im1)\n",
    "    ax[1].imshow(im2) \n",
    "    x = plt.ginput(1)\n",
    "    plt.show()\n",
    "    point = np.array(x).reshape(-1,1)\n",
    "    return point\n",
    "\n",
    "\n",
    "def DrawLine(l, shape):\n",
    "    #Checks where the line intersects the four sides of the image\n",
    "    # and finds the two intersections that are within the frame\n",
    "    def in_frame(l_im):\n",
    "        q = np.cross(l.flatten(), l_im)\n",
    "        q = q[:2]/q[2]\n",
    "        if all(q>=0) and all(q+1<=shape[1::-1]):\n",
    "          return q\n",
    "        \n",
    "    lines = [[1, 0, 0], [0, 1, 0], [1, 0, 1-shape[1]], [0, 1, 1-shape[0]]]\n",
    "    P = [in_frame(l_im) for l_im in lines if in_frame(l_im) is not None]\n",
    "    if (len(P)==0):\n",
    "        print(\"Line is completely outside image\")\n",
    "    plt.plot(*np.array(P).T)"
   ]
  },
  {
   "cell_type": "code",
   "execution_count": 118,
   "metadata": {},
   "outputs": [],
   "source": [
    "%matplotlib qt \n",
    "\n",
    "def ex9(im1,im2,K,R1,R2,t1,t2):\n",
    "    q1_ = show2imgs(im1,im2)\n",
    "\n",
    "    \n",
    "    E = crossOp(t1) @ R1 \n",
    "\n",
    "    F = np.linalg.inv(K).T @ E @  np.linalg.inv(K) \n",
    "\n",
    "\n",
    "\n",
    "    l = F @ PiInv(q1_)\n",
    "    shape = im2.shape\n",
    "    \n",
    "    DrawLine(l,shape)\n",
    "\n",
    "    return F\n",
    "\n"
   ]
  },
  {
   "cell_type": "code",
   "execution_count": 119,
   "metadata": {},
   "outputs": [
    {
     "ename": "ValueError",
     "evalue": "matmul: Input operand 1 has a mismatch in its core dimension 0, with gufunc signature (n?,k),(k,m?)->(n?,m?) (size 1 is different from 3)",
     "output_type": "error",
     "traceback": [
      "\u001b[0;31m---------------------------------------------------------------------------\u001b[0m",
      "\u001b[0;31mValueError\u001b[0m                                Traceback (most recent call last)",
      "Cell \u001b[0;32mIn[119], line 1\u001b[0m\n\u001b[0;32m----> 1\u001b[0m F \u001b[38;5;241m=\u001b[39m \u001b[43mex9\u001b[49m\u001b[43m(\u001b[49m\u001b[43mim1\u001b[49m\u001b[43m,\u001b[49m\u001b[43mim2\u001b[49m\u001b[43m,\u001b[49m\u001b[43mK\u001b[49m\u001b[43m,\u001b[49m\u001b[43mR1\u001b[49m\u001b[43m,\u001b[49m\u001b[43mR2\u001b[49m\u001b[43m,\u001b[49m\u001b[43mt1\u001b[49m\u001b[43m,\u001b[49m\u001b[43mt2\u001b[49m\u001b[43m)\u001b[49m\n",
      "Cell \u001b[0;32mIn[118], line 13\u001b[0m, in \u001b[0;36mex9\u001b[0;34m(im1, im2, K, R1, R2, t1, t2)\u001b[0m\n\u001b[1;32m      7\u001b[0m E \u001b[38;5;241m=\u001b[39m crossOp(t1) \u001b[38;5;241m@\u001b[39m R1 \n\u001b[1;32m      9\u001b[0m F \u001b[38;5;241m=\u001b[39m np\u001b[38;5;241m.\u001b[39mlinalg\u001b[38;5;241m.\u001b[39minv(K)\u001b[38;5;241m.\u001b[39mT \u001b[38;5;241m@\u001b[39m E \u001b[38;5;241m@\u001b[39m  np\u001b[38;5;241m.\u001b[39mlinalg\u001b[38;5;241m.\u001b[39minv(K) \n\u001b[0;32m---> 13\u001b[0m l \u001b[38;5;241m=\u001b[39m \u001b[43mF\u001b[49m\u001b[43m \u001b[49m\u001b[38;5;241;43m@\u001b[39;49m\u001b[43m \u001b[49m\u001b[43mPiInv\u001b[49m\u001b[43m(\u001b[49m\u001b[43mq1_\u001b[49m\u001b[43m)\u001b[49m\n\u001b[1;32m     14\u001b[0m shape \u001b[38;5;241m=\u001b[39m im2\u001b[38;5;241m.\u001b[39mshape\n\u001b[1;32m     16\u001b[0m DrawLine(l,shape)\n",
      "\u001b[0;31mValueError\u001b[0m: matmul: Input operand 1 has a mismatch in its core dimension 0, with gufunc signature (n?,k),(k,m?)->(n?,m?) (size 1 is different from 3)"
     ]
    }
   ],
   "source": [
    "F = ex9(im1,im2,K,R1,R2,t1,t2)"
   ]
  },
  {
   "cell_type": "markdown",
   "metadata": {},
   "source": [
    "# Exercise 3.11"
   ]
  },
  {
   "cell_type": "code",
   "execution_count": 10,
   "metadata": {},
   "outputs": [],
   "source": [
    "def triangulate(qn,pn):\n",
    "\n",
    "    \"\"\" Input \n",
    "        Q: list of n pixel coordinates (q1,q2,...qn)\n",
    "        Pn: list of n projection matrices \n",
    "        output: triangulation of the 3d point\n",
    "    \"\"\"\n",
    "\n",
    "    if len(qn) != len(pn):\n",
    "        raise ValueError(\"Expected lists of equal length, len(Q)!=len(pn)\")\n",
    "\n",
    "    \n",
    "    B_i = lambda P,q: np.array([  [P[2]*q[0] - P[0]],[P[2]*q[1] - P[1]]  ])\n",
    "\n",
    "    B = np.hstack(([B_i(P_i,q_i) for P_i, q_i in zip(pn,qn)]))\n",
    "\n",
    "    B = B.reshape(len(pn)*2,4)\n",
    "\n",
    "    U,S,VT = np.linalg.svd(B)\n",
    "\n",
    "    Q = VT[-1,:]\n",
    "    return Q"
   ]
  },
  {
   "cell_type": "markdown",
   "metadata": {},
   "source": [
    "# Quizz 3 \n",
    "\n"
   ]
  },
  {
   "cell_type": "code",
   "execution_count": 23,
   "metadata": {},
   "outputs": [
    {
     "data": {
      "text/plain": [
       "array([3.10058867, 0.74321098, 0.46490561])"
      ]
     },
     "execution_count": 23,
     "metadata": {},
     "output_type": "execute_result"
    }
   ],
   "source": [
    "import cv2 \n",
    "import numpy as np \n",
    "\n",
    "\n",
    "K = np.array([[900, 0, 1070], [0, 900, 610.0], [0, 0, 1]], float)\n",
    "R1 = cv2.Rodrigues(np.array([-1.6, 0.3, -2.1]))[0]\n",
    "t1 = np.array([[0.0], [1.0], [3.0]], float)\n",
    "R2 = cv2.Rodrigues(np.array([-0.4, -1.3, -1.6]))[0]\n",
    "t2 = np.array([[0.0], [1.0], [6.0]], float)\n",
    "R3 = cv2.Rodrigues(np.array([2.5, 1.7, -0.4]))[0]\n",
    "t3 = np.array([[2.0], [-7.0], [25.0]], float)\n",
    "\n",
    "\n",
    "#Observed points \n",
    "\n",
    "p1 = np.array([[1046.0], [453.0]])\n",
    "p2 = np.array([[1126.0], [671.0]])\n",
    "p3 = np.array([[1165.0], [453.0]])\n",
    "\n",
    "\n",
    "Q = [p1,p2,p3]\n",
    "P1 = K@ np.column_stack((R1,t1))\n",
    "P2 = K @ np.column_stack((R2,t2))\n",
    "P3 = K @ np.column_stack((R3,t3)) \n",
    "\n",
    "\n",
    "Pi(triangulate(Q,[P1,P2,P3]))"
   ]
  },
  {
   "cell_type": "code",
   "execution_count": 24,
   "metadata": {},
   "outputs": [],
   "source": [
    "E = crossOp(t1.flatten())  @ R1\n",
    "F = np.linalg.inv(K).T @ E @ np.linalg.inv(K)\n",
    "l1 = F @ PiInv(p1)"
   ]
  },
  {
   "cell_type": "code",
   "execution_count": 21,
   "metadata": {},
   "outputs": [],
   "source": [
    "def shortest_distance(p1,l):\n",
    "    d = np.abs(l.T@p1)/(np.abs(p1[2])*(np.sqrt(l[0]**2+l[1]**2)))\n",
    "    return d"
   ]
  },
  {
   "cell_type": "code",
   "execution_count": 31,
   "metadata": {},
   "outputs": [
    {
     "data": {
      "text/plain": [
       "array([[-0.75727712]])"
      ]
     },
     "execution_count": 31,
     "metadata": {},
     "output_type": "execute_result"
    }
   ],
   "source": [
    "PiInv(p2).T @ l1"
   ]
  }
 ],
 "metadata": {
  "kernelspec": {
   "display_name": "Python 3",
   "language": "python",
   "name": "python3"
  },
  "language_info": {
   "codemirror_mode": {
    "name": "ipython",
    "version": 3
   },
   "file_extension": ".py",
   "mimetype": "text/x-python",
   "name": "python",
   "nbconvert_exporter": "python",
   "pygments_lexer": "ipython3",
   "version": "3.11.6"
  }
 },
 "nbformat": 4,
 "nbformat_minor": 2
}
