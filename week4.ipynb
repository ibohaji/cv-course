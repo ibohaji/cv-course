{
 "cells": [
  {
   "cell_type": "code",
   "execution_count": 126,
   "metadata": {},
   "outputs": [
    {
     "name": "stdout",
     "output_type": "stream",
     "text": [
      "The autoreload extension is already loaded. To reload it, use:\n",
      "  %reload_ext autoreload\n"
     ]
    }
   ],
   "source": [
    "%load_ext autoreload \n",
    "%autoreload \n",
    "\n",
    "%reload_ext autoreload\n",
    "\n",
    "import cv2 \n",
    "import numpy as np \n",
    "from week1 import  PiInv, Pi,project_points,plot3d\n",
    "from function_4 import * \n",
    "\n",
    "\n",
    "\n",
    "\n",
    "f = 1000 \n",
    "dx = 1920/2\n",
    "dy = 1080 /2 \n",
    "\n",
    "R = np.array([[np.sqrt(0.5),-np.sqrt(0.5),0],[np.sqrt(0.5),np.sqrt(0.5),0],[0,0,1]])\n",
    "t = np.array([[0],[0],[10]])\n",
    "\n",
    "\n",
    "K_true = np.array([[f,0,dx],[0,f,dy],[0,0,1]])\n",
    "\n",
    "Q = np.array([[0,0,0],[0,0,1],[0,1,1],[1,1,1],[0,1,0],[1,1,0],[1,0,1],[1,0,0]])\n"
   ]
  },
  {
   "cell_type": "markdown",
   "metadata": {},
   "source": [
    "## Exercise 4.1\n",
    "* Find the projection matrix P and the projections q."
   ]
  },
  {
   "cell_type": "code",
   "execution_count": 127,
   "metadata": {},
   "outputs": [],
   "source": [
    "P = K @ np.hstack((R,t)) \n",
    "\n",
    "q_i = np.array([Pi(P @ PiInv(q) ) for q in Q]).T\n"
   ]
  },
  {
   "cell_type": "markdown",
   "metadata": {},
   "source": [
    "## Exercise 4.2 \n",
    "\n",
    "Write a function `pest` that uses $Q$ and $q$ to estimate $P$ with the DLT. Do not normalize your points. Use the estimated projection matrix $P_{est}$ to project the points $Q$, giving you the reprojected points $q_{est}$.\n",
    "\n",
    "What is the overall reprojection error $qP_1^n ||q_{est} - q||_2^2$ (RMSE)?\n",
    "\n",
    "Does normalizing the 2D points before estimating $P$ (like we did for the homography) improve the reprojection error?\n"
   ]
  },
  {
   "cell_type": "markdown",
   "metadata": {},
   "source": []
  },
  {
   "cell_type": "code",
   "execution_count": 128,
   "metadata": {},
   "outputs": [],
   "source": [
    "P_est = pest(PiInv(Q.T),q_i)\n"
   ]
  },
  {
   "cell_type": "markdown",
   "metadata": {},
   "source": [
    "### The estimated P is different in scale from P_True, We thus need to find the scaling factor \n",
    "##### This can be achived either by solving the equation: $$ S \\cdot P_{est_i,j} = P_{true_i,j} $$\n",
    "\n",
    "##### This becomes  $$ S = \\frac{P_{true_i,j} }{P_{est_i,j}} $$\n",
    "\n",
    "##### Or by finding the norm of the true projection Matrix \n",
    "\n",
    "##### Thus our estimated matrix becomes: $$ \\Large P_est = P_est \\cdot S $$ "
   ]
  },
  {
   "cell_type": "code",
   "execution_count": 129,
   "metadata": {},
   "outputs": [],
   "source": [
    "S = - np.linalg.norm(P) # Remember to check for the sign \n",
    "#P_est = S* P_est \n",
    "\n"
   ]
  },
  {
   "cell_type": "code",
   "execution_count": 130,
   "metadata": {},
   "outputs": [
    {
     "name": "stdout",
     "output_type": "stream",
     "text": [
      "The RMSE is: 3.764851283320554e-16\n"
     ]
    }
   ],
   "source": [
    "q_hat = Pi(P_est @ PiInv(Q.T))\n",
    "\n",
    "rmse = RMSE(q_hat,q_i) # Root mean square error \n",
    "print(\"The RMSE is: {}\".format(rmse))"
   ]
  },
  {
   "cell_type": "markdown",
   "metadata": {},
   "source": [
    "#### Exercise 4.3\n",
    "Define a function `checkerboard_points(n, m)` that returns the 3D points\n",
    "\n",
    "$$ Q_{ij} = \\begin{bmatrix} i - \\frac{n-1}{2} \\\\ j - \\frac{m-1}{2} \\\\ 0 \\end{bmatrix} $$\n",
    "\n",
    "where $i \\in \\{0, . . . , n - 1\\}$ and $j \\in \\{0, . . . , m - 1\\}$. The points should be returned as a $3 \\times (n \\cdot m)$ matrix and their order does not matter. These points lie in the $z = 0$ plane by definition.\n"
   ]
  },
  {
   "cell_type": "code",
   "execution_count": 131,
   "metadata": {},
   "outputs": [],
   "source": [
    "def checkerboard_points(n, m):\n",
    "    def Q_ij(i, j):\n",
    "        return np.array([i - (n-1)/2, j - (m-1)/2, 0])\n",
    "    \n",
    "    points = np.zeros((3, n*m))\n",
    "    idx = 0\n",
    "    for i in range(n):\n",
    "        for j in range(m):\n",
    "            points[:, idx] = Q_ij(i, j)\n",
    "            idx += 1\n",
    "    \n",
    "    return points"
   ]
  },
  {
   "cell_type": "markdown",
   "metadata": {},
   "source": [
    "Exercise 4.4\n",
    "\n",
    "Let $Q_{\\Omega}$ define a set of corners on a checkerboard. Then define three sets of checkerboard points $Q_a$, $Q_b$, and $Q_c$, where\n",
    "\n",
    "$$\n",
    "Q_a = R_{\\pi/10, 0, 0} \\cdot Q_{\\Omega}, \\tag{8}\n",
    "$$\n",
    "\n",
    "$$\n",
    "Q_b = R(0, 0, 0) \\cdot Q_{\\Omega}, \\tag{9}\n",
    "$$\n",
    "\n",
    "$$\n",
    "Q_c = R_{-\\pi/10, 0, 0} \\cdot Q_{\\Omega}, \\tag{10}\n",
    "$$\n",
    "\n",
    "where\n",
    "\n",
    "$$\n",
    "R(\\theta_x, \\theta_y, \\theta_z) = \\begin{bmatrix} \n",
    "\\cos(\\theta_z) & -\\sin(\\theta_z) & 0 \\\\\n",
    "\\sin(\\theta_z) & \\cos(\\theta_z) & 0 \\\\\n",
    "0 & 0 & 1\n",
    "\\end{bmatrix} \\cdot \n",
    "\\begin{bmatrix} \n",
    "\\cos(\\theta_y) & 0 & \\sin(\\theta_y) \\\\\n",
    "0 & 1 & 0 \\\\\n",
    "-\\sin(\\theta_y) & 0 & \\cos(\\theta_y)\n",
    "\\end{bmatrix} \\cdot \n",
    "\\begin{bmatrix} \n",
    "1 & 0 & 0 \\\\\n",
    "0 & \\cos(\\theta_x) & -\\sin(\\theta_x) \\\\\n",
    "0 & \\sin(\\theta_x) & \\cos(\\theta_x)\n",
    "\\end{bmatrix}. \\tag{12}\n",
    "$$\n",
    "\n",
    "Recall that you can compute $R$ with scipy as follows:\n",
    "\n",
    "```python\n",
    "from scipy.spatial.transform import Rotation\n",
    "R = Rotation.from_euler('xyz', [θx, θy, θz]).as_matrix()\n"
   ]
  },
  {
   "cell_type": "code",
   "execution_count": 132,
   "metadata": {},
   "outputs": [],
   "source": [
    "from scipy.spatial.transform import Rotation\n",
    "\n",
    "\n",
    "Ra = Rotation.from_euler('xyz', [np.pi/10, 0, 0]).as_matrix()\n",
    "Rb = Rotation.from_euler('xyz', [0, 0, 0]).as_matrix()\n",
    "Rc = Rotation.from_euler('xyz', [-np.pi/10, 0, 0]).as_matrix()"
   ]
  },
  {
   "cell_type": "code",
   "execution_count": 133,
   "metadata": {},
   "outputs": [],
   "source": [
    "Q_omega = checkerboard_points(10,20)\n",
    "\n",
    "Q_a = Ra @ Q_omega \n",
    "Q_b = Rb @ Q_omega\n",
    "Q_c = Rc @ Q_omega\n",
    "\n",
    "q_a = (P @ PiInv(Q_a))\n",
    "q_b = (P @ PiInv(Q_b))\n",
    "q_c = (P @ PiInv(Q_c))"
   ]
  },
  {
   "cell_type": "markdown",
   "metadata": {},
   "source": [
    "Exercise 4.5\n",
    "\n",
    "Define a function `estimateHomographies(Q_omega, qs)` which takes the following input arguments:\n",
    "- `Q_omega`: an array original un-transformed checkerboard points in 3D, for example $Q_{\\Omega}$.\n",
    "- `qs`: a list of arrays, each element in the list containing $Q_{\\Omega}$ projected to the image plane from different views, for example `qs` could be [$q_a$, $q_b$, $q_c$].\n",
    "\n",
    "The function should return the homographies that map from $Q_{\\Omega}$ to each of the entries in `qs`.\n",
    "\n",
    "The homographies should work as follows:\n",
    "$$ q = HQ_{\\tilde{\\Omega}} \\tag{13} $$\n",
    "\n",
    "where $Q_{\\tilde{\\Omega}}$ is $Q_{\\Omega}$ without the z-coordinate, in homogeneous coordinates. Remember that we need multiple orientations of checkerboards e.g. rotated and translated.\n",
    "\n",
    "Use your function `hest` from week 2 to estimate the individual homographies. You should return a list of homographies; one homography for each checkerboard orientation.\n",
    "\n",
    "Test your function using $Q_{\\Omega}$, $q_a$, $q_b$, and $q_c$. Check that the estimated homographies are correct with Equation 13.\n"
   ]
  },
  {
   "cell_type": "code",
   "execution_count": 134,
   "metadata": {},
   "outputs": [
    {
     "name": "stdout",
     "output_type": "stream",
     "text": [
      "Success: The arrays are almost equal.\n"
     ]
    }
   ],
   "source": [
    "Q_omega = checkerboard_points(10,20)\n",
    "\n",
    "Q_a = Ra @ Q_omega \n",
    "Q_b = Rb @ Q_omega\n",
    "Q_c = Rc @ Q_omega\n",
    "\n",
    "q_a = Pi(P @ PiInv(Q_a))\n",
    "q_b = Pi(P @ PiInv(Q_b))\n",
    "q_c = Pi(P @ PiInv(Q_c))\n",
    "\n",
    "Q_tilde = np.copy(Q_omega)\n",
    "Q_tilde[-1,:] = 1 \n",
    "\n",
    "H = hest(PiInv(q_a),Q_tilde)\n",
    "estimated = H  @ Q_tilde  # H @ Q = s * q_a => H @ Q / q_a = s \n",
    "\n",
    "\n",
    "try:\n",
    "    np.testing.assert_almost_equal((q_a), Pi(estimated))\n",
    "    print(\"Success: The arrays are almost equal.\")  # Or any other sign/notification of success.\n",
    "except AssertionError as e:\n",
    "    print(\"AssertionError:\", e)\n",
    "\n",
    "\n",
    "\n"
   ]
  },
  {
   "cell_type": "code",
   "execution_count": 135,
   "metadata": {},
   "outputs": [
    {
     "name": "stdout",
     "output_type": "stream",
     "text": [
      "All the Homographies map correctly to the image matrix\n"
     ]
    }
   ],
   "source": [
    "q_a = Pi(P @ PiInv(Q_a))\n",
    "q_b = Pi(P @ PiInv(Q_b))\n",
    "q_c = Pi(P @ PiInv(Q_c))\n",
    "\n",
    "homographies = estimateHomograpies([PiInv(q_a),PiInv(q_b),PiInv(q_c)],Q_omega)\n",
    "q_a_estimate = homographies[0] @ Q_tilde\n",
    "\n",
    "\n",
    "try:\n",
    "        \n",
    "    np.testing.assert_almost_equal(q_a,Pi(homographies[0] @ (Q_tilde)))\n",
    "    np.testing.assert_almost_equal(q_b,Pi(homographies[1] @ (Q_tilde)))\n",
    "    np.testing.assert_almost_equal(q_c,Pi(homographies[2] @ (Q_tilde)))\n",
    "    print(\"All the Homographies map correctly to the image matrix\")\n",
    "except AssertionError as e:\n",
    "    print(\"The reprojected points are inequall to the original points\", e)"
   ]
  },
  {
   "cell_type": "markdown",
   "metadata": {},
   "source": [
    "## Exercise 4.6\n",
    "\n",
    "Now, define a function `estimate_b(Hs)` that takes a list of homographies `Hs` and returns the vector `b`. Form the matrix `V`. This is the coefficient matrix used to estimate `b` using SVD.\n",
    "\n",
    "Test your function with the homographies from the previous exercise. See if you get the same result as by constructing $$B_{\\text{true}} = K^{-T}K^{-1}$$, and converting this into `b_{true}`.\n",
    "\n",
    "Is `b` a scaled version of `b_{true}`?\n",
    "\n",
    "### Suggestions for debugging:\n",
    "- Check that $$v_{11} \\cdot b_{\\text{true}} = h_1^T B_{\\text{true}} h_1$$\n",
    "- Be aware that $v_{αβ}$ use 1-indexing, while your code might not.\n"
   ]
  },
  {
   "cell_type": "code",
   "execution_count": null,
   "metadata": {},
   "outputs": [],
   "source": []
  },
  {
   "cell_type": "code",
   "execution_count": 136,
   "metadata": {},
   "outputs": [],
   "source": [
    "homographies = estimateHomograpies([q_a,q_b,q_c],Q_omega)\n",
    "b = estimate_b(homographies)\n",
    "\n",
    "\n",
    "\n",
    "B_true = np.linalg.inv(K_true.T) @ np.linalg.inv(K_true)\n",
    "b_true = np.array([B_true[0,0], B_true[0,1], B_true[1,1], B_true[0,2], B_true[1,2], B_true[2,2]])"
   ]
  },
  {
   "cell_type": "code",
   "execution_count": 137,
   "metadata": {},
   "outputs": [
    {
     "data": {
      "text/plain": [
       "(array([-5.77350269e-01,  2.22044605e-16, -5.77350269e-01, -3.14405912e-15,\n",
       "        -1.79100094e-15, -5.77350269e-01]),\n",
       " array([ 1.0000e-06,  0.0000e+00,  1.0000e-06, -9.6000e-04, -5.4000e-04,\n",
       "         2.2132e+00]))"
      ]
     },
     "execution_count": 137,
     "metadata": {},
     "output_type": "execute_result"
    }
   ],
   "source": [
    "b,b_true"
   ]
  },
  {
   "cell_type": "code",
   "execution_count": 138,
   "metadata": {},
   "outputs": [],
   "source": [
    "B = getB(b) \n",
    "\n",
    "v11 = estimate_b(homographies) \n",
    "left = v11 @ b_true\n",
    "h1 = homographies[0]\n",
    "right = h1[:,0] @ B @ h1[:,0].T\n"
   ]
  },
  {
   "cell_type": "code",
   "execution_count": 139,
   "metadata": {},
   "outputs": [
    {
     "name": "stdout",
     "output_type": "stream",
     "text": [
      "ze shape v12:(1, 6)\n",
      "ze shape v12:(1, 6)\n",
      "ze shape v12:(1, 6)\n",
      "changed\n",
      "shapezzz V: (6, 1, 6)\n"
     ]
    },
    {
     "data": {
      "text/plain": [
       "(array([[-0.0239138 , -0.95388655, -0.0239138 ,  0.20816969, -0.20816969,\n",
       "          0.04782759],\n",
       "        [-0.95388655,  0.11135142, -0.02227829,  0.1939326 , -0.1939326 ,\n",
       "          0.04455658],\n",
       "        [-0.0239138 , -0.02227829,  0.99944149,  0.00486186, -0.00486186,\n",
       "          0.00111703],\n",
       "        [ 0.20816969,  0.1939326 ,  0.00486186,  0.95767747,  0.04232253,\n",
       "         -0.00972372],\n",
       "        [-0.20816969, -0.1939326 , -0.00486186,  0.04232253,  0.95767747,\n",
       "          0.00972372],\n",
       "        [ 0.04782759,  0.04455658,  0.00111703, -0.00972372,  0.00972372,\n",
       "          0.99776595]]),\n",
       " array([-5.77350269e-01,  2.22044605e-16, -5.77350269e-01, -3.14405912e-15,\n",
       "        -1.79100094e-15, -5.77350269e-01]))"
      ]
     },
     "execution_count": 139,
     "metadata": {},
     "output_type": "execute_result"
    }
   ],
   "source": [
    "b_maybe = estimate_b_diagnostics(homographies)\n",
    "b = estimate_b(homographies)\n",
    "\n",
    "b_maybe,b"
   ]
  },
  {
   "cell_type": "code",
   "execution_count": 140,
   "metadata": {},
   "outputs": [
    {
     "data": {
      "text/plain": [
       "array([ 1.0000e-06,  0.0000e+00,  1.0000e-06, -9.6000e-04, -5.4000e-04,\n",
       "        2.2132e+00])"
      ]
     },
     "execution_count": 140,
     "metadata": {},
     "output_type": "execute_result"
    }
   ],
   "source": [
    "b_true"
   ]
  },
  {
   "cell_type": "code",
   "execution_count": 141,
   "metadata": {},
   "outputs": [
    {
     "name": "stdout",
     "output_type": "stream",
     "text": [
      "lambda:1.0\n",
      "v_0:540.0\n",
      "alpha:1000.0\n",
      "beta:1000.0\n",
      "gama:-0.0\n",
      "u_0:960.0\n"
     ]
    },
    {
     "data": {
      "text/plain": [
       "array([[1000,    0,  960],\n",
       "       [   0, 1000,  540],\n",
       "       [   0,    0,    1]])"
      ]
     },
     "execution_count": 141,
     "metadata": {},
     "output_type": "execute_result"
    }
   ],
   "source": [
    "get_CameraM(b_true*1).astype(int)"
   ]
  },
  {
   "cell_type": "code",
   "execution_count": 143,
   "metadata": {},
   "outputs": [
    {
     "name": "stdout",
     "output_type": "stream",
     "text": [
      "lambda:-0.04536786763028312\n",
      "v_0:0.22384493588198615\n",
      "alpha:1.3773677593376359\n",
      "beta:nan\n",
      "gama:nan\n",
      "u_0:nan\n"
     ]
    },
    {
     "name": "stderr",
     "output_type": "stream",
     "text": [
      "/tmp/ipykernel_16646/1167550902.py:1: RuntimeWarning: invalid value encountered in cast\n",
      "  get_CameraM(b_maybe[0]).astype(int)\n"
     ]
    },
    {
     "data": {
      "text/plain": [
       "array([[                   1, -9223372036854775808, -9223372036854775808],\n",
       "       [                   0, -9223372036854775808,                    0],\n",
       "       [                   0,                    0,                    1]])"
      ]
     },
     "execution_count": 143,
     "metadata": {},
     "output_type": "execute_result"
    }
   ],
   "source": [
    "get_CameraM(b_maybe[0]).astype(int)"
   ]
  },
  {
   "cell_type": "code",
   "execution_count": null,
   "metadata": {},
   "outputs": [],
   "source": []
  },
  {
   "cell_type": "code",
   "execution_count": null,
   "metadata": {},
   "outputs": [
    {
     "name": "stdout",
     "output_type": "stream",
     "text": [
      "lambda:-0.5773502691895959\n",
      "v_0:-3.102104627916144e-15\n",
      "alpha:0.9999999999999614\n",
      "beta:0.999999999999961\n",
      "gama:3.84592537276688e-16\n",
      "u_0:-5.445670138340628e-15\n"
     ]
    }
   ],
   "source": [
    "A = get_CameraM(b)\n"
   ]
  },
  {
   "cell_type": "markdown",
   "metadata": {},
   "source": [
    "## Exercise 4.7\n",
    "\n",
    "### Objective\n",
    "Define a function `estimateIntrinsics(Hs)` that takes a list of homographies `Hs` and returns a camera matrix `K`.\n",
    "\n",
    "### Instructions\n",
    "\n",
    "- Utilize your `estimate_b` function from the previous exercise.\n",
    "- From `b`, estimate the camera matrix `K` (referred to as `A` in the paper).\n",
    "- Refer to Appendix B from the paper for the solution method.\n",
    "- Test your function with the homographies provided in Exercise 4.5.\n",
    "\n",
    "### Questions\n",
    "- Do you retrieve the original camera matrix upon testing with the homographies from Exercise 4.5?\n",
    "\n",
    "### Notes\n",
    "Ensure to review the mathematical derivations in Appendix B of the paper to accurately implement the estimation of the camera matrix `K` based on `b`.\n"
   ]
  },
  {
   "cell_type": "code",
   "execution_count": null,
   "metadata": {},
   "outputs": [
    {
     "name": "stdout",
     "output_type": "stream",
     "text": [
      "lambda:-0.5773502691895959\n",
      "v_0:-3.102104627916144e-15\n",
      "alpha:0.9999999999999614\n",
      "beta:0.999999999999961\n",
      "gama:3.84592537276688e-16\n",
      "u_0:-5.445670138340628e-15\n"
     ]
    },
    {
     "data": {
      "text/plain": [
       "array([[0, 0, 0],\n",
       "       [0, 0, 0],\n",
       "       [0, 0, 1]])"
      ]
     },
     "execution_count": 105,
     "metadata": {},
     "output_type": "execute_result"
    }
   ],
   "source": [
    "K_est = estimateIntrisics(homographies)\n",
    "\n",
    "\n",
    "K_est.astype(int)"
   ]
  },
  {
   "cell_type": "code",
   "execution_count": null,
   "metadata": {},
   "outputs": [],
   "source": []
  },
  {
   "cell_type": "code",
   "execution_count": null,
   "metadata": {},
   "outputs": [],
   "source": []
  },
  {
   "cell_type": "markdown",
   "metadata": {},
   "source": [
    "### Exercise 4.8\n",
    "\n",
    "Define a function `Rs, ts = estimateExtrinsics(K, Hs)` that takes the camera matrix `K` and the homographies `Hs` and returns the rotations `Rs` and translations `ts` of each checkerboard. Utilize the formulas provided in the paper. Appendix C is not required for consideration — we can accept the associated error.\n",
    "\n",
    "#### Considerations:\n",
    "- The rotations `Rs` should not be identical to `Ra`, `Rb`, and `Rc` as the camera itself is also rotated.\n",
    "- Reflect on what you expect the rotations to be. What kind of rotations do you observe, and are they valid?\n",
    "\n",
    "#### Further Task:\n",
    "Combine the functions to create a comprehensive function `K, Rs, ts = calibrateCamera(qs, Q)` that determines the camera intrinsics and extrinsics from the checkerboard correspondences `q` and `Q`.\n"
   ]
  },
  {
   "cell_type": "code",
   "execution_count": null,
   "metadata": {},
   "outputs": [],
   "source": [
    "Rs,ts = estimateExtrinsics(K,homographies)\n"
   ]
  },
  {
   "cell_type": "code",
   "execution_count": null,
   "metadata": {},
   "outputs": [
    {
     "name": "stdout",
     "output_type": "stream",
     "text": [
      "lambda:1.0\n",
      "v_0:540.0\n",
      "alpha:1000.0\n",
      "beta:1000.0\n",
      "gama:-0.0\n",
      "u_0:960.0\n"
     ]
    },
    {
     "ename": "NameError",
     "evalue": "name 'b_est' is not defined",
     "output_type": "error",
     "traceback": [
      "\u001b[0;31m---------------------------------------------------------------------------\u001b[0m",
      "\u001b[0;31mNameError\u001b[0m                                 Traceback (most recent call last)",
      "Cell \u001b[0;32mIn[107], line 1\u001b[0m\n\u001b[0;32m----> 1\u001b[0m get_CameraM(b_true)\u001b[38;5;241m.\u001b[39mastype(\u001b[38;5;28mint\u001b[39m),get_CameraM(\u001b[43mb_est\u001b[49m\u001b[38;5;241m*\u001b[39m\u001b[38;5;241m1000\u001b[39m)\u001b[38;5;241m.\u001b[39mastype(\u001b[38;5;28mint\u001b[39m)\n",
      "\u001b[0;31mNameError\u001b[0m: name 'b_est' is not defined"
     ]
    }
   ],
   "source": [
    "get_CameraM(b_true).astype(int),get_CameraM(b_est*1000).astype(int)"
   ]
  },
  {
   "cell_type": "code",
   "execution_count": null,
   "metadata": {},
   "outputs": [],
   "source": [
    "Homographies = estimateHomograpies(Q_omega,[q_a,q_b,q_c])\n",
    "\n",
    "R,T = estimateExtrinsics(K,Homographies)\n"
   ]
  },
  {
   "cell_type": "code",
   "execution_count": null,
   "metadata": {},
   "outputs": [
    {
     "name": "stdout",
     "output_type": "stream",
     "text": [
      "lambda:0.5773502691896405\n",
      "v_0:2.467840004883618e-15\n",
      "alpha:1.0000000000000193\n",
      "beta:1.000000000000019\n",
      "gama:-0.0\n",
      "u_0\n"
     ]
    }
   ],
   "source": [
    "K_pred,Rs,ts = calibrateCamera([q_a,q_b,q_c],Q_tilde)\n",
    "K= np.array([[f,0,dx],[0,f,dy],[0,0,1]])\n"
   ]
  },
  {
   "cell_type": "markdown",
   "metadata": {},
   "source": [
    "### Exercise 4.9\n",
    "\n",
    "Use your function to estimate K and R and t for each view. Use these to project Qω\n",
    "\n",
    "thus reobtaining qa, qb and qc\n",
    ", and verify that you get the same points by computing the reprojection\n",
    "error."
   ]
  },
  {
   "cell_type": "code",
   "execution_count": null,
   "metadata": {},
   "outputs": [
    {
     "name": "stdout",
     "output_type": "stream",
     "text": [
      "lambda:0.5773502691896405\n",
      "v_0:2.467840004883618e-15\n",
      "alpha:1.0000000000000193\n",
      "beta:1.000000000000019\n",
      "gama:-0.0\n",
      "u_0\n",
      "9.46753382489507\n",
      "9.165151389911786\n",
      "9.467533824895064\n"
     ]
    }
   ],
   "source": [
    "K,Rs,ts = calibrateCamera([q_a,q_b,q_c],Q_tilde)\n",
    "\n",
    "P_a = K @ np.hstack((Rs[0],smart_transpose(ts[0]).T))\n",
    "P_b = K @ np.hstack((Rs[1],smart_transpose(ts[1]).T))\n",
    "P_c = K @ np.hstack((Rs[2],smart_transpose(ts[2]).T))\n",
    "\n",
    "\n",
    "q_a_est = P_a @ PiInv(Q_tilde)\n",
    "q_b_est = P_b @ PiInv(Q_tilde)\n",
    "q_c_est = P_c @ PiInv(Q_tilde)\n",
    "\n",
    "\n",
    "print(RMSE(q_a,q_a_est))\n",
    "print(RMSE(q_b_est,q_b))\n",
    "print(RMSE(q_c_est,q_c))"
   ]
  }
 ],
 "metadata": {
  "kernelspec": {
   "display_name": "cvcourse",
   "language": "python",
   "name": "python3"
  },
  "language_info": {
   "codemirror_mode": {
    "name": "ipython",
    "version": 3
   },
   "file_extension": ".py",
   "mimetype": "text/x-python",
   "name": "python",
   "nbconvert_exporter": "python",
   "pygments_lexer": "ipython3",
   "version": "3.11.6"
  }
 },
 "nbformat": 4,
 "nbformat_minor": 2
}
