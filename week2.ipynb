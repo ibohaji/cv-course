{
 "cells": [
  {
   "cell_type": "code",
   "execution_count": 2,
   "metadata": {},
   "outputs": [],
   "source": [
    "from week1 import box3d, PiInv, Pi,project_points,plot3d\n",
    "import numpy as np \n",
    "import matplotlib.pyplot as plt \n",
    "from sympy import Matrix"
   ]
  },
  {
   "cell_type": "markdown",
   "metadata": {},
   "source": [
    "Exercise 2.1\n",
    "Reuse the box3d function from last week. Assume that f = 600, α = 1, β = 0, and δx = δy = 400.\n",
    "Given a traditional camera, what is the resolution in pixels?\n",
    "Also assume R = I, and t = [0, .2, 1.5]T. Use projectpoints from last week, to project the\n",
    "points."
   ]
  },
  {
   "cell_type": "code",
   "execution_count": 11,
   "metadata": {},
   "outputs": [],
   "source": [
    "#Define the given parameters \n",
    "\n",
    "Q = box3d()\n",
    "f = 600\n",
    "beta = 0\n",
    "alpha = 1 \n",
    "dx = 400\n",
    "dy = 400\n",
    "\n",
    "K = np.array([[f,f*beta,dx],[0,alpha*f,dy],[0,0,1]])\n",
    "R = np.eye(3)\n",
    "t = np.array([0,0.2,1.5])\n",
    "\n",
    "#The projected points \n",
    "p = project_points(K,R,t,Q)"
   ]
  },
  {
   "cell_type": "markdown",
   "metadata": {},
   "source": [
    "Are all the points captured by the image sensor?\n"
   ]
  },
  {
   "cell_type": "code",
   "execution_count": 4,
   "metadata": {},
   "outputs": [
    {
     "data": {
      "text/latex": [
       "$\\displaystyle \\left[\\begin{matrix}600.0 & 0 & 400.0 & 600.0\\\\0 & 600.0 & 400.0 & 720.0\\\\0 & 0 & 1.0 & 1.5\\end{matrix}\\right]$"
      ],
      "text/plain": [
       "⎡600.0    0    400.0  600.0⎤\n",
       "⎢                          ⎥\n",
       "⎢  0    600.0  400.0  720.0⎥\n",
       "⎢                          ⎥\n",
       "⎣  0      0     1.0    1.5 ⎦"
      ]
     },
     "execution_count": 4,
     "metadata": {},
     "output_type": "execute_result"
    }
   ],
   "source": [
    "#The projection matrix \n",
    "\n",
    "P = K@np.column_stack((R,t))\n",
    "Matrix(P)"
   ]
  },
  {
   "cell_type": "markdown",
   "metadata": {},
   "source": [
    "2 x 400 = 800 pixels along each dimensions, i.e. 800 x 800."
   ]
  },
  {
   "cell_type": "markdown",
   "metadata": {},
   "source": [
    "Where does the corner P 1 = [−0.5, −0.5, −0.5] project to?\n"
   ]
  },
  {
   "cell_type": "code",
   "execution_count": 5,
   "metadata": {},
   "outputs": [
    {
     "data": {
      "text/plain": [
       "array([100., 220.])"
      ]
     },
     "execution_count": 5,
     "metadata": {},
     "output_type": "execute_result"
    }
   ],
   "source": [
    "corner = np.array([-0.5,-0.5,-0.5])\n",
    "\n",
    "project_points(K,R,t,corner)"
   ]
  },
  {
   "cell_type": "markdown",
   "metadata": {},
   "source": [
    "The corner projects to [100,220].T"
   ]
  },
  {
   "cell_type": "markdown",
   "metadata": {},
   "source": [
    "#### Create a new or change your function projectpoints to a version that also takes distCoeffs as\n",
    "#### an input. The list distCoeffs should contain the distortion coefficients [k3, k5, k7, . . . ]. Make the function work for at least 3 coefficients.\n"
   ]
  },
  {
   "cell_type": "code",
   "execution_count": 165,
   "metadata": {},
   "outputs": [],
   "source": [
    "def PiInv(coordinate):\n",
    "    \"\"\"input: inhom coordinates\n",
    "    returns: homogenous coordinates\"\"\"  \n",
    "\n",
    "    if (coordinate.shape[0])>1:\n",
    "        w = np.ones((1,coordinate.shape[1]))\n",
    "        hom = np.vstack((coordinate,w))\n",
    "        print(\"i was here\")\n",
    "\n",
    "    else:\n",
    "        w = 1\n",
    "        hom = np.append(coordinate,w)\n",
    "\n",
    "    return hom "
   ]
  },
  {
   "cell_type": "code",
   "execution_count": 240,
   "metadata": {},
   "outputs": [
    {
     "name": "stdout",
     "output_type": "stream",
     "text": [
      "(3, 3) (3, 3) (3, 1)\n"
     ]
    },
    {
     "ename": "ValueError",
     "evalue": "matmul: Input operand 1 has a mismatch in its core dimension 0, with gufunc signature (n?,k),(k,m?)->(n?,m?) (size 3 is different from 4)",
     "output_type": "error",
     "traceback": [
      "\u001b[1;31m---------------------------------------------------------------------------\u001b[0m",
      "\u001b[1;31mValueError\u001b[0m                                Traceback (most recent call last)",
      "Cell \u001b[1;32mIn[240], line 49\u001b[0m\n\u001b[0;32m     45\u001b[0m points \u001b[38;5;241m=\u001b[39m np\u001b[38;5;241m.\u001b[39marray([\u001b[38;5;241m-\u001b[39m\u001b[38;5;241m0.5\u001b[39m,\u001b[38;5;241m-\u001b[39m\u001b[38;5;241m0.5\u001b[39m,\u001b[38;5;241m-\u001b[39m\u001b[38;5;241m0.5\u001b[39m])\n\u001b[0;32m     47\u001b[0m \u001b[38;5;28mprint\u001b[39m(A_p\u001b[38;5;241m.\u001b[39mshape,R\u001b[38;5;241m.\u001b[39mshape,t\u001b[38;5;241m.\u001b[39mshape)\n\u001b[1;32m---> 49\u001b[0m \u001b[43mproject_points_distort\u001b[49m\u001b[43m(\u001b[49m\u001b[43mA_p\u001b[49m\u001b[43m,\u001b[49m\u001b[43mA_q\u001b[49m\u001b[43m,\u001b[49m\u001b[43mR\u001b[49m\u001b[43m,\u001b[49m\u001b[43mt\u001b[49m\u001b[43m,\u001b[49m\u001b[43mpoints\u001b[49m\u001b[43m,\u001b[49m\u001b[43mnp\u001b[49m\u001b[38;5;241;43m.\u001b[39;49m\u001b[43marray\u001b[49m\u001b[43m(\u001b[49m\u001b[43m[\u001b[49m\u001b[38;5;241;43m-\u001b[39;49m\u001b[38;5;241;43m2\u001b[39;49m\u001b[43m,\u001b[49m\u001b[38;5;241;43m0\u001b[39;49m\u001b[43m,\u001b[49m\u001b[38;5;241;43m0\u001b[39;49m\u001b[43m]\u001b[49m\u001b[43m)\u001b[49m\u001b[43m)\u001b[49m\n",
      "Cell \u001b[1;32mIn[240], line 12\u001b[0m, in \u001b[0;36mproject_points_distort\u001b[1;34m(A_p, A_q, R, t, Q, distCoeffs)\u001b[0m\n\u001b[0;32m      4\u001b[0m \u001b[38;5;28;01mdef\u001b[39;00m \u001b[38;5;21mproject_points_distort\u001b[39m(A_p,A_q,R,t,Q,distCoeffs\u001b[38;5;241m=\u001b[39m\u001b[38;5;28;01mNone\u001b[39;00m):\n\u001b[0;32m      7\u001b[0m     \u001b[38;5;28;01mif\u001b[39;00m distCoeffs \u001b[38;5;129;01mis\u001b[39;00m \u001b[38;5;129;01mnot\u001b[39;00m \u001b[38;5;28;01mNone\u001b[39;00m:\n\u001b[1;32m---> 12\u001b[0m       p_d \u001b[38;5;241m=\u001b[39m \u001b[43mA_p\u001b[49m\u001b[43m \u001b[49m\u001b[38;5;241;43m@\u001b[39;49m\u001b[43m  \u001b[49m\u001b[43mnp\u001b[49m\u001b[38;5;241;43m.\u001b[39;49m\u001b[43mhstack\u001b[49m\u001b[43m(\u001b[49m\u001b[43m(\u001b[49m\u001b[43mR\u001b[49m\u001b[43m,\u001b[49m\u001b[43mt\u001b[49m\u001b[43m)\u001b[49m\u001b[43m)\u001b[49m\u001b[43m \u001b[49m\u001b[38;5;241;43m@\u001b[39;49m\u001b[43m \u001b[49m\u001b[43mQ\u001b[49m\n\u001b[0;32m     14\u001b[0m         \u001b[38;5;66;03m#r_i = np.sqrt(np.sum(pi_d**2,axis=0))\u001b[39;00m\n\u001b[0;32m     15\u001b[0m         \n\u001b[0;32m     16\u001b[0m       \u001b[38;5;66;03m#  powers = np.arange(2,len(distCoeffs)*2+1,2)\u001b[39;00m\n\u001b[1;32m   (...)\u001b[0m\n\u001b[0;32m     22\u001b[0m      \u001b[38;5;66;03m#   qi = K @ PiInv(p_c).T\u001b[39;00m\n\u001b[0;32m     23\u001b[0m       \u001b[38;5;66;03m#  qi = Pi(qi)\u001b[39;00m\n\u001b[0;32m     26\u001b[0m       \u001b[38;5;28;01mreturn\u001b[39;00m \u001b[38;5;241m2\u001b[39m\n",
      "\u001b[1;31mValueError\u001b[0m: matmul: Input operand 1 has a mismatch in its core dimension 0, with gufunc signature (n?,k),(k,m?)->(n?,m?) (size 3 is different from 4)"
     ]
    }
   ],
   "source": [
    "from sympy import Matrix, pretty_print\n",
    "\n",
    "\n",
    "def project_points_distort(A_p,A_q,R,t,Q,distCoeffs=None):\n",
    "\n",
    "\n",
    "    if distCoeffs is not None:\n",
    "      \n",
    "\n",
    "\n",
    "\n",
    "      p_d = A_p @  np.hstack((R,t)) @ Q\n",
    "\n",
    "        #r_i = np.sqrt(np.sum(pi_d**2,axis=0))\n",
    "        \n",
    "      #  powers = np.arange(2,len(distCoeffs)*2+1,2)\n",
    "      #  delta_r_i = np.array([distCoeffs]) @ np.power(r_i,powers.reshape(-1,1))\n",
    "\n",
    "      #  p_c = pi_d * (1+delta_r_i.T)\n",
    "\n",
    "     #   print(PiInv(p_c).T.shape)\n",
    "     #   qi = K @ PiInv(p_c).T\n",
    "      #  qi = Pi(qi)\n",
    "\n",
    "\n",
    "      return 2\n",
    "\n",
    " \n",
    "\n",
    "\n",
    "Q = box3d()\n",
    "\n",
    "f = 600\n",
    "beta = 0\n",
    "alpha = 1 \n",
    "dx = 400\n",
    "dy = 400\n",
    "\n",
    "A_p = np.array([[f,0,0],[0,f,0],[0,0,1]])\n",
    "A_q = np.array([[1,beta,dx],[0,alpha,dy],[0,0,1]])\n",
    "\n",
    "\n",
    "R = np.eye(3)\n",
    "t = np.array([0,0.2,1.5]).reshape(-1,1)\n",
    "points = np.array([-0.5,-0.5,-0.5])\n",
    "\n",
    "print(A_p.shape,R.shape,t.shape)\n",
    "\n",
    "project_points_distort(A_p,A_q,R,t,points,np.array([-2,0,0]))"
   ]
  },
  {
   "cell_type": "code",
   "execution_count": 237,
   "metadata": {},
   "outputs": [
    {
     "name": "stdout",
     "output_type": "stream",
     "text": [
      "(3, 3) (3, 3) (3, 1)\n"
     ]
    }
   ],
   "source": [
    "R = np.array([[0.9887,-0.0004,0.1500],[0.0008,1,-0.0030],[-0.15,0.0031,0.9887]])\n",
    "t = np.array([-2.1811,0.0399,0.5072]).reshape(-1,1)\n",
    "A = np.array([[2774.5,0,806.8],[0,2774.5,622.6],[0,0,1]])\n",
    "\n",
    "\n",
    "A_p = np.array([[2774.5,0,0],[0,2774.5,0],[0,0,1]])\n",
    "A_q = np.array([[1,0,806.8],[0,1,622.6],[0,0,1]])\n",
    "\n",
    "#P = A @ np.hstack((R,t))\n",
    "Q = np.array([-1.3540,0.5631,8.8734,1]).T\n",
    "\n",
    "\n",
    "\n",
    "\n",
    "p_d = A_p @  np.hstack((R,t)) @ Q\n",
    "\n",
    "r_i = np.sqrt(np.sum(Pi(p_d)**2,axis=0))\n",
    "distCoeffs = np.array([-5.1806e-8,1.4192e-15])\n",
    "powers = np.arange(2,len(distCoeffs)*2+1,2)\n",
    "delta_r_i = np.array([distCoeffs]) @ np.power(r_i,powers.reshape(-1,1))\n",
    "p_c = Pi(p_d) * (1+delta_r_i)\n",
    "p_c = PiInv(np.array(p_c))\n",
    "q = A_q @ p_c\n",
    "Matrix(q)\n",
    "\n",
    "\n",
    "print(A_p.shape,R.shape,t.shape)\n"
   ]
  },
  {
   "cell_type": "code",
   "execution_count": null,
   "metadata": {},
   "outputs": [],
   "source": []
  },
  {
   "cell_type": "code",
   "execution_count": null,
   "metadata": {},
   "outputs": [],
   "source": []
  },
  {
   "cell_type": "code",
   "execution_count": 215,
   "metadata": {},
   "outputs": [
    {
     "data": {
      "image/png": "[encoded data removed]",
      "text/latex": [
       "$\\displaystyle \\left( 3, \\  3\\right)$"
      ],
      "text/plain": [
       "(3, 3)"
      ]
     },
     "execution_count": 215,
     "metadata": {},
     "output_type": "execute_result"
    }
   ],
   "source": [
    "A.shape"
   ]
  },
  {
   "cell_type": "code",
   "execution_count": null,
   "metadata": {},
   "outputs": [],
   "source": []
  },
  {
   "cell_type": "code",
   "execution_count": null,
   "metadata": {},
   "outputs": [],
   "source": []
  },
  {
   "cell_type": "code",
   "execution_count": 207,
   "metadata": {},
   "outputs": [
    {
     "ename": "IndexError",
     "evalue": "tuple index out of range",
     "output_type": "error",
     "traceback": [
      "\u001b[1;31m---------------------------------------------------------------------------\u001b[0m",
      "\u001b[1;31mIndexError\u001b[0m                                Traceback (most recent call last)",
      "Cell \u001b[1;32mIn[207], line 1\u001b[0m\n\u001b[1;32m----> 1\u001b[0m \u001b[43mp_c\u001b[49m\u001b[38;5;241;43m.\u001b[39;49m\u001b[43mshape\u001b[49m\u001b[43m[\u001b[49m\u001b[38;5;241;43m2\u001b[39;49m\u001b[43m]\u001b[49m\n",
      "\u001b[1;31mIndexError\u001b[0m: tuple index out of range"
     ]
    }
   ],
   "source": [
    "p_c.shape[2]"
   ]
  },
  {
   "cell_type": "code",
   "execution_count": null,
   "metadata": {},
   "outputs": [],
   "source": []
  },
  {
   "cell_type": "code",
   "execution_count": null,
   "metadata": {},
   "outputs": [],
   "source": []
  },
  {
   "cell_type": "code",
   "execution_count": null,
   "metadata": {},
   "outputs": [],
   "source": []
  },
  {
   "cell_type": "code",
   "execution_count": null,
   "metadata": {},
   "outputs": [],
   "source": []
  },
  {
   "cell_type": "code",
   "execution_count": null,
   "metadata": {},
   "outputs": [],
   "source": []
  },
  {
   "cell_type": "code",
   "execution_count": null,
   "metadata": {},
   "outputs": [],
   "source": []
  },
  {
   "cell_type": "code",
   "execution_count": null,
   "metadata": {},
   "outputs": [],
   "source": []
  },
  {
   "cell_type": "code",
   "execution_count": null,
   "metadata": {},
   "outputs": [],
   "source": []
  },
  {
   "cell_type": "code",
   "execution_count": null,
   "metadata": {},
   "outputs": [],
   "source": []
  },
  {
   "cell_type": "code",
   "execution_count": null,
   "metadata": {},
   "outputs": [],
   "source": []
  },
  {
   "cell_type": "code",
   "execution_count": null,
   "metadata": {},
   "outputs": [],
   "source": [
    "        r_i = np.sqrt(np.sum(pi_d**2,axis=0))\n",
    "        \n",
    "        powers = np.arange(2,len(distCoeffs)*2+1,2)\n",
    "        delta_r_i = np.array([distCoeffs]) @ np.power(r_i,powers.reshape(-1,1))\n",
    "\n"
   ]
  },
  {
   "cell_type": "code",
   "execution_count": null,
   "metadata": {},
   "outputs": [],
   "source": []
  },
  {
   "cell_type": "code",
   "execution_count": null,
   "metadata": {},
   "outputs": [],
   "source": []
  },
  {
   "cell_type": "code",
   "execution_count": null,
   "metadata": {},
   "outputs": [],
   "source": []
  },
  {
   "cell_type": "code",
   "execution_count": null,
   "metadata": {},
   "outputs": [],
   "source": []
  },
  {
   "cell_type": "code",
   "execution_count": null,
   "metadata": {},
   "outputs": [],
   "source": []
  },
  {
   "cell_type": "code",
   "execution_count": null,
   "metadata": {},
   "outputs": [],
   "source": []
  },
  {
   "cell_type": "code",
   "execution_count": null,
   "metadata": {},
   "outputs": [],
   "source": []
  },
  {
   "cell_type": "code",
   "execution_count": null,
   "metadata": {},
   "outputs": [],
   "source": []
  },
  {
   "cell_type": "code",
   "execution_count": 120,
   "metadata": {},
   "outputs": [
    {
     "data": {
      "text/latex": [
       "$\\displaystyle \\left[\\begin{matrix}k_{1} r_{1} + k_{2} r_{1}\\\\k_{1} r_{2} + k_{2} r_{2}\\\\k_{1} r_{3} + k_{2} r_{3}\\\\k_{1} r_{4} + k_{2} r_{4}\\end{matrix}\\right]$"
      ],
      "text/plain": [
       "⎡k₁⋅r₁ + k₂⋅r₁⎤\n",
       "⎢             ⎥\n",
       "⎢k₁⋅r₂ + k₂⋅r₂⎥\n",
       "⎢             ⎥\n",
       "⎢k₁⋅r₃ + k₂⋅r₃⎥\n",
       "⎢             ⎥\n",
       "⎣k₁⋅r₄ + k₂⋅r₄⎦"
      ]
     },
     "execution_count": 120,
     "metadata": {},
     "output_type": "execute_result"
    }
   ],
   "source": [
    "Matrix(dot_product_sum)"
   ]
  }
 ],
 "metadata": {
  "kernelspec": {
   "display_name": "computer-vision",
   "language": "python",
   "name": "python3"
  },
  "language_info": {
   "codemirror_mode": {
    "name": "ipython",
    "version": 3
   },
   "file_extension": ".py",
   "mimetype": "text/x-python",
   "name": "python",
   "nbconvert_exporter": "python",
   "pygments_lexer": "ipython3",
   "version": "3.10.11"
  }
 },
 "nbformat": 4,
 "nbformat_minor": 2
}
