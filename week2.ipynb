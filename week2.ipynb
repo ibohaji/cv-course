{
 "cells": [
  {
   "cell_type": "code",
   "execution_count": 3,
   "metadata": {},
   "outputs": [],
   "source": [
    "from week1 import box3d, PiInv, Pi,project_points,plot3d\n",
    "import numpy as np \n",
    "import matplotlib.pyplot as plt \n",
    "from sympy import Matrix"
   ]
  },
  {
   "cell_type": "markdown",
   "metadata": {},
   "source": [
    "Exercise 2.1\n",
    "Reuse the box3d function from last week. Assume that f = 600, α = 1, β = 0, and δx = δy = 400.\n",
    "Given a traditional camera, what is the resolution in pixels?\n",
    "Also assume R = I, and t = [0, .2, 1.5]T. Use projectpoints from last week, to project the\n",
    "points."
   ]
  },
  {
   "cell_type": "code",
   "execution_count": 4,
   "metadata": {},
   "outputs": [],
   "source": [
    "#Define the given parameters \n",
    "\n",
    "Q = box3d()\n",
    "f = 600\n",
    "beta = 0\n",
    "alpha = 1 \n",
    "dx = 400\n",
    "dy = 400\n",
    "\n",
    "K = np.array([[f,f*beta,dx],[0,alpha*f,dy],[0,0,1]])\n",
    "R = np.eye(3)\n",
    "t = np.array([0,0.2,1.5])\n",
    "\n",
    "#The projected points \n",
    "p = project_points(K,R,t,Q)"
   ]
  },
  {
   "cell_type": "markdown",
   "metadata": {},
   "source": [
    "Are all the points captured by the image sensor?\n"
   ]
  },
  {
   "cell_type": "code",
   "execution_count": 5,
   "metadata": {},
   "outputs": [
    {
     "data": {
      "text/latex": [
       "$\\displaystyle \\left[\\begin{matrix}600.0 & 0 & 400.0 & 600.0\\\\0 & 600.0 & 400.0 & 720.0\\\\0 & 0 & 1.0 & 1.5\\end{matrix}\\right]$"
      ],
      "text/plain": [
       "⎡600.0    0    400.0  600.0⎤\n",
       "⎢                          ⎥\n",
       "⎢  0    600.0  400.0  720.0⎥\n",
       "⎢                          ⎥\n",
       "⎣  0      0     1.0    1.5 ⎦"
      ]
     },
     "execution_count": 5,
     "metadata": {},
     "output_type": "execute_result"
    }
   ],
   "source": [
    "#The projection matrix \n",
    "\n",
    "P = K@np.column_stack((R,t))\n",
    "Matrix(P)"
   ]
  },
  {
   "cell_type": "markdown",
   "metadata": {},
   "source": [
    "2 x 400 = 800 pixels along each dimensions, i.e. 800 x 800."
   ]
  },
  {
   "cell_type": "markdown",
   "metadata": {},
   "source": [
    "Where does the corner P 1 = [−0.5, −0.5, −0.5] project to?\n"
   ]
  },
  {
   "cell_type": "code",
   "execution_count": 118,
   "metadata": {},
   "outputs": [
    {
     "data": {
      "text/plain": [
       "array([100., 220.])"
      ]
     },
     "execution_count": 118,
     "metadata": {},
     "output_type": "execute_result"
    }
   ],
   "source": [
    "corner = np.array([-0.5,-0.5,-0.5])\n",
    "\n",
    "project_points(K,R,t,corner)"
   ]
  },
  {
   "cell_type": "markdown",
   "metadata": {},
   "source": [
    "The corner projects to [100,220].T"
   ]
  },
  {
   "cell_type": "markdown",
   "metadata": {},
   "source": [
    "#### Create a new or change your function projectpoints to a version that also takes distCoeffs as\n",
    "#### an input. The list distCoeffs should contain the distortion coefficients [k3, k5, k7, . . . ]. Make the function work for at least 3 coefficients.\n"
   ]
  },
  {
   "cell_type": "code",
   "execution_count": 59,
   "metadata": {},
   "outputs": [],
   "source": [
    "def PiInv(coordinate):\n",
    "    \"\"\"\n",
    "    Convert inhomogeneous coordinates to homogeneous coordinates.\n",
    "\n",
    "    Parameters:\n",
    "    - coordinate: A numpy array of inhomogeneous coordinates. This can be a 1D array (vector) or a 2D array (matrix).\n",
    "\n",
    "    Returns:\n",
    "    - A numpy array of homogeneous coordinates. For a vector, appends a 1 to the end. For a matrix, appends a row of 1s.\n",
    "    \"\"\"\n",
    "\n",
    "    # Handle 1D array (vector) case\n",
    "    if coordinate.ndim == 1:\n",
    "        hom = np.append(coordinate, 1)\n",
    "    # Handle 2D array (matrix) case\n",
    "    elif coordinate.ndim == 2:\n",
    "        w = np.ones((1, coordinate.shape[1]))\n",
    "        hom = np.vstack((coordinate, w))\n",
    "    else:\n",
    "        raise ValueError(\"Input must be a 1D (vector) or 2D (matrix) array.\")\n",
    "\n",
    "    return hom\n"
   ]
  },
  {
   "cell_type": "code",
   "execution_count": 109,
   "metadata": {},
   "outputs": [],
   "source": [
    "from sympy import Matrix, pretty_print\n",
    "\n",
    "\n",
    "def project_points_distort(A_p,A_q,R,t,points,distCoeffs):\n",
    "\n",
    "\n",
    "  p_d = A_p @ np.hstack((R,t)) @ PiInv(points)\n",
    "  r_i = np.sqrt(np.sum(Pi(p_d)**2,axis=0))\n",
    "  powers = np.arange(2,len(distCoeffs)*2+1,2)\n",
    "  delta_r_i = np.array([distCoeffs]) @ np.power(r_i,powers.reshape(-1,1))\n",
    "  p_c = Pi(p_d) * (1+delta_r_i)\n",
    "  p_c = PiInv((p_c.T))\n",
    "  q = A_q @ p_c\n",
    "\n",
    "  return q\n",
    "\n",
    "  \n",
    "\n",
    "\n",
    " \n",
    "\n"
   ]
  },
  {
   "cell_type": "code",
   "execution_count": 117,
   "metadata": {},
   "outputs": [
    {
     "ename": "ValueError",
     "evalue": "matmul: Input operand 1 has a mismatch in its core dimension 0, with gufunc signature (n?,k),(k,m?)->(n?,m?) (size 5 is different from 4)",
     "output_type": "error",
     "traceback": [
      "\u001b[1;31m---------------------------------------------------------------------------\u001b[0m",
      "\u001b[1;31mValueError\u001b[0m                                Traceback (most recent call last)",
      "Cell \u001b[1;32mIn[117], line 16\u001b[0m\n\u001b[0;32m     14\u001b[0m points \u001b[38;5;241m=\u001b[39m np\u001b[38;5;241m.\u001b[39marray([\u001b[38;5;241m-\u001b[39m\u001b[38;5;241m0.5\u001b[39m,\u001b[38;5;241m-\u001b[39m\u001b[38;5;241m0.5\u001b[39m,\u001b[38;5;241m-\u001b[39m\u001b[38;5;241m0.5\u001b[39m,\u001b[38;5;241m1\u001b[39m])\n\u001b[0;32m     15\u001b[0m coefs \u001b[38;5;241m=\u001b[39m np\u001b[38;5;241m.\u001b[39marray([\u001b[38;5;241m-\u001b[39m\u001b[38;5;241m0.2\u001b[39m])\n\u001b[1;32m---> 16\u001b[0m sol \u001b[38;5;241m=\u001b[39m \u001b[43mproject_points_distort\u001b[49m\u001b[43m(\u001b[49m\u001b[43mA_p\u001b[49m\u001b[43m,\u001b[49m\u001b[43mA_q\u001b[49m\u001b[43m,\u001b[49m\u001b[43mR\u001b[49m\u001b[43m,\u001b[49m\u001b[43mt\u001b[49m\u001b[43m,\u001b[49m\u001b[43mpoints\u001b[49m\u001b[43m,\u001b[49m\u001b[43mcoefs\u001b[49m\u001b[43m)\u001b[49m\u001b[38;5;241m.\u001b[39mastype(\u001b[38;5;28mint\u001b[39m)\n\u001b[0;32m     18\u001b[0m Matrix(sol)\n",
      "Cell \u001b[1;32mIn[109], line 7\u001b[0m, in \u001b[0;36mproject_points_distort\u001b[1;34m(A_p, A_q, R, t, points, distCoeffs)\u001b[0m\n\u001b[0;32m      4\u001b[0m \u001b[38;5;28;01mdef\u001b[39;00m \u001b[38;5;21mproject_points_distort\u001b[39m(A_p,A_q,R,t,points,distCoeffs):\n\u001b[1;32m----> 7\u001b[0m   p_d \u001b[38;5;241m=\u001b[39m \u001b[43mA_p\u001b[49m\u001b[43m \u001b[49m\u001b[38;5;241;43m@\u001b[39;49m\u001b[43m \u001b[49m\u001b[43mnp\u001b[49m\u001b[38;5;241;43m.\u001b[39;49m\u001b[43mhstack\u001b[49m\u001b[43m(\u001b[49m\u001b[43m(\u001b[49m\u001b[43mR\u001b[49m\u001b[43m,\u001b[49m\u001b[43mt\u001b[49m\u001b[43m)\u001b[49m\u001b[43m)\u001b[49m\u001b[43m \u001b[49m\u001b[38;5;241;43m@\u001b[39;49m\u001b[43m \u001b[49m\u001b[43mPiInv\u001b[49m\u001b[43m(\u001b[49m\u001b[43mpoints\u001b[49m\u001b[43m)\u001b[49m\n\u001b[0;32m      8\u001b[0m   r_i \u001b[38;5;241m=\u001b[39m np\u001b[38;5;241m.\u001b[39msqrt(np\u001b[38;5;241m.\u001b[39msum(Pi(p_d)\u001b[38;5;241m*\u001b[39m\u001b[38;5;241m*\u001b[39m\u001b[38;5;241m2\u001b[39m,axis\u001b[38;5;241m=\u001b[39m\u001b[38;5;241m0\u001b[39m))\n\u001b[0;32m      9\u001b[0m   powers \u001b[38;5;241m=\u001b[39m np\u001b[38;5;241m.\u001b[39marange(\u001b[38;5;241m2\u001b[39m,\u001b[38;5;28mlen\u001b[39m(distCoeffs)\u001b[38;5;241m*\u001b[39m\u001b[38;5;241m2\u001b[39m\u001b[38;5;241m+\u001b[39m\u001b[38;5;241m1\u001b[39m,\u001b[38;5;241m2\u001b[39m)\n",
      "\u001b[1;31mValueError\u001b[0m: matmul: Input operand 1 has a mismatch in its core dimension 0, with gufunc signature (n?,k),(k,m?)->(n?,m?) (size 5 is different from 4)"
     ]
    }
   ],
   "source": [
    "\n",
    "\n",
    "f = 600\n",
    "beta = 0\n",
    "alpha = 1 \n",
    "dx = 400\n",
    "dy = 400\n",
    "\n",
    "A_p = np.array([[f,0,0],[0,f,0],[0,0,1]])\n",
    "A_q = np.array([[1,beta,dx],[0,alpha,dy],[0,0,1]])\n",
    "\n",
    "\n",
    "R = np.eye(3)\n",
    "t = np.array([0.0,0.2,1.5]).T.reshape(-1,1)\n",
    "\n",
    "points = np.array([-0.5,-0.5,-0.5])\n",
    "coefs = np.array([-0.2])\n",
    "sol = project_points_distort(A_p,A_q,R,t,points,coefs).astype(int)\n",
    "\n",
    "Matrix(sol)"
   ]
  },
  {
   "cell_type": "code",
   "execution_count": null,
   "metadata": {},
   "outputs": [],
   "source": []
  },
  {
   "cell_type": "code",
   "execution_count": null,
   "metadata": {},
   "outputs": [],
   "source": []
  },
  {
   "cell_type": "code",
   "execution_count": null,
   "metadata": {},
   "outputs": [],
   "source": []
  },
  {
   "cell_type": "code",
   "execution_count": null,
   "metadata": {},
   "outputs": [],
   "source": []
  },
  {
   "cell_type": "code",
   "execution_count": 89,
   "metadata": {},
   "outputs": [
    {
     "data": {
      "text/latex": [
       "$\\displaystyle \\left[\\begin{matrix}1 & 0 & 400\\\\0 & 1 & 400\\\\0 & 0 & 1\\end{matrix}\\right]$"
      ],
      "text/plain": [
       "⎡1  0  400⎤\n",
       "⎢         ⎥\n",
       "⎢0  1  400⎥\n",
       "⎢         ⎥\n",
       "⎣0  0   1 ⎦"
      ]
     },
     "execution_count": 89,
     "metadata": {},
     "output_type": "execute_result"
    }
   ],
   "source": [
    "Matrix(A_q)"
   ]
  },
  {
   "cell_type": "code",
   "execution_count": null,
   "metadata": {},
   "outputs": [],
   "source": []
  },
  {
   "cell_type": "code",
   "execution_count": null,
   "metadata": {},
   "outputs": [],
   "source": []
  },
  {
   "cell_type": "code",
   "execution_count": null,
   "metadata": {},
   "outputs": [],
   "source": []
  },
  {
   "cell_type": "code",
   "execution_count": null,
   "metadata": {},
   "outputs": [],
   "source": []
  },
  {
   "cell_type": "code",
   "execution_count": null,
   "metadata": {},
   "outputs": [],
   "source": []
  },
  {
   "cell_type": "code",
   "execution_count": null,
   "metadata": {},
   "outputs": [],
   "source": []
  },
  {
   "cell_type": "code",
   "execution_count": 215,
   "metadata": {},
   "outputs": [
    {
     "data": {
      "image/png": "[encoded data removed]",
      "text/latex": [
       "$\\displaystyle \\left( 3, \\  3\\right)$"
      ],
      "text/plain": [
       "(3, 3)"
      ]
     },
     "execution_count": 215,
     "metadata": {},
     "output_type": "execute_result"
    }
   ],
   "source": [
    "A.shape"
   ]
  },
  {
   "cell_type": "code",
   "execution_count": null,
   "metadata": {},
   "outputs": [],
   "source": []
  },
  {
   "cell_type": "code",
   "execution_count": null,
   "metadata": {},
   "outputs": [],
   "source": []
  },
  {
   "cell_type": "code",
   "execution_count": 207,
   "metadata": {},
   "outputs": [
    {
     "ename": "IndexError",
     "evalue": "tuple index out of range",
     "output_type": "error",
     "traceback": [
      "\u001b[1;31m---------------------------------------------------------------------------\u001b[0m",
      "\u001b[1;31mIndexError\u001b[0m                                Traceback (most recent call last)",
      "Cell \u001b[1;32mIn[207], line 1\u001b[0m\n\u001b[1;32m----> 1\u001b[0m \u001b[43mp_c\u001b[49m\u001b[38;5;241;43m.\u001b[39;49m\u001b[43mshape\u001b[49m\u001b[43m[\u001b[49m\u001b[38;5;241;43m2\u001b[39;49m\u001b[43m]\u001b[49m\n",
      "\u001b[1;31mIndexError\u001b[0m: tuple index out of range"
     ]
    }
   ],
   "source": [
    "p_c.shape[2]"
   ]
  },
  {
   "cell_type": "code",
   "execution_count": null,
   "metadata": {},
   "outputs": [],
   "source": []
  },
  {
   "cell_type": "code",
   "execution_count": null,
   "metadata": {},
   "outputs": [],
   "source": []
  },
  {
   "cell_type": "code",
   "execution_count": null,
   "metadata": {},
   "outputs": [],
   "source": []
  },
  {
   "cell_type": "code",
   "execution_count": null,
   "metadata": {},
   "outputs": [],
   "source": []
  },
  {
   "cell_type": "code",
   "execution_count": null,
   "metadata": {},
   "outputs": [],
   "source": []
  },
  {
   "cell_type": "code",
   "execution_count": null,
   "metadata": {},
   "outputs": [],
   "source": []
  },
  {
   "cell_type": "code",
   "execution_count": null,
   "metadata": {},
   "outputs": [],
   "source": []
  },
  {
   "cell_type": "code",
   "execution_count": null,
   "metadata": {},
   "outputs": [],
   "source": []
  },
  {
   "cell_type": "code",
   "execution_count": null,
   "metadata": {},
   "outputs": [],
   "source": []
  },
  {
   "cell_type": "code",
   "execution_count": null,
   "metadata": {},
   "outputs": [],
   "source": []
  },
  {
   "cell_type": "code",
   "execution_count": null,
   "metadata": {},
   "outputs": [],
   "source": [
    "        r_i = np.sqrt(np.sum(pi_d**2,axis=0))\n",
    "        \n",
    "        powers = np.arange(2,len(distCoeffs)*2+1,2)\n",
    "        delta_r_i = np.array([distCoeffs]) @ np.power(r_i,powers.reshape(-1,1))\n",
    "\n"
   ]
  },
  {
   "cell_type": "code",
   "execution_count": null,
   "metadata": {},
   "outputs": [],
   "source": []
  },
  {
   "cell_type": "code",
   "execution_count": null,
   "metadata": {},
   "outputs": [],
   "source": []
  },
  {
   "cell_type": "code",
   "execution_count": null,
   "metadata": {},
   "outputs": [],
   "source": []
  },
  {
   "cell_type": "code",
   "execution_count": null,
   "metadata": {},
   "outputs": [],
   "source": []
  },
  {
   "cell_type": "code",
   "execution_count": null,
   "metadata": {},
   "outputs": [],
   "source": []
  },
  {
   "cell_type": "code",
   "execution_count": null,
   "metadata": {},
   "outputs": [],
   "source": []
  },
  {
   "cell_type": "code",
   "execution_count": null,
   "metadata": {},
   "outputs": [],
   "source": []
  },
  {
   "cell_type": "code",
   "execution_count": null,
   "metadata": {},
   "outputs": [],
   "source": []
  },
  {
   "cell_type": "code",
   "execution_count": 120,
   "metadata": {},
   "outputs": [
    {
     "data": {
      "text/latex": [
       "$\\displaystyle \\left[\\begin{matrix}k_{1} r_{1} + k_{2} r_{1}\\\\k_{1} r_{2} + k_{2} r_{2}\\\\k_{1} r_{3} + k_{2} r_{3}\\\\k_{1} r_{4} + k_{2} r_{4}\\end{matrix}\\right]$"
      ],
      "text/plain": [
       "⎡k₁⋅r₁ + k₂⋅r₁⎤\n",
       "⎢             ⎥\n",
       "⎢k₁⋅r₂ + k₂⋅r₂⎥\n",
       "⎢             ⎥\n",
       "⎢k₁⋅r₃ + k₂⋅r₃⎥\n",
       "⎢             ⎥\n",
       "⎣k₁⋅r₄ + k₂⋅r₄⎦"
      ]
     },
     "execution_count": 120,
     "metadata": {},
     "output_type": "execute_result"
    }
   ],
   "source": [
    "Matrix(dot_product_sum)"
   ]
  }
 ],
 "metadata": {
  "kernelspec": {
   "display_name": "computer-vision",
   "language": "python",
   "name": "python3"
  },
  "language_info": {
   "codemirror_mode": {
    "name": "ipython",
    "version": 3
   },
   "file_extension": ".py",
   "mimetype": "text/x-python",
   "name": "python",
   "nbconvert_exporter": "python",
   "pygments_lexer": "ipython3",
   "version": "3.10.11"
  }
 },
 "nbformat": 4,
 "nbformat_minor": 2
}
